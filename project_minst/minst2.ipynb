{
 "metadata": {
  "name": "",
  "signature": "sha256:424e951afd87e66598ddaaa966fe925c152f30f35a7bb064251c7704e360fd92"
 },
 "nbformat": 3,
 "nbformat_minor": 0,
 "worksheets": [
  {
   "cells": [
    {
     "cell_type": "code",
     "collapsed": false,
     "input": [
      "import pandas as pd\n",
      "import numpy as np\n",
      "import numpy.random as rnd\n",
      "import matplotlib.pyplot as plt\n",
      "# rnd.seed(120)\n",
      "\n",
      "train_raw = pd.read_csv('./data/train.csv')\n",
      "test_raw = pd.read_csv('./data/test.csv')\n",
      "\n",
      "train_all = train_raw.values"
     ],
     "language": "python",
     "metadata": {},
     "outputs": [],
     "prompt_number": 61
    },
    {
     "cell_type": "code",
     "collapsed": false,
     "input": [
      "def dat_get(dataset):\n",
      "    labels = dataset[:,0]\n",
      "    features = dataset[:,1:]\n",
      "    return features, labels\n",
      "\n",
      "\n",
      "def compare(lb1, lb2):\n",
      "    acc = np.sum(lb1 == lb2)\n",
      "    return acc\n",
      "\n",
      "\n",
      "def logi(x):\n",
      "    return 1 / (1 + np.exp(-x))\n",
      "\n",
      "\n",
      "def add_offset(X):\n",
      "    x0_ = np.ones((1, X.shape[1]))\n",
      "    return np.vstack((x0_, X))\n",
      "    \n",
      "\n",
      "def forward(the_X, W):\n",
      "    a = W.dot(add_offset(the_X))\n",
      "    return logi(a)\n",
      "\n",
      "\n",
      "def forward_all(X, W1, W2):\n",
      "    X1 = forward(X, W1)\n",
      "    X2 = forward(X1, W2)\n",
      "    return X2\n",
      "\n",
      "def plotm(mat,matname):\n",
      "    plt.figure()\n",
      "    plt.imshow(mat, interpolation='nearest', aspect='auto')\n",
      "    plt.colorbar()\n",
      "    plt.title(matname)\n",
      "    plt.tight_layout()\n",
      "    plt.show()\n",
      "    \n",
      "\n",
      "def backward_(Err, X, W1, W2, verbose=False):\n",
      "    X1 = forward(X, W1)\n",
      "    Err2 = Err\n",
      "    if verbose:\n",
      "        plotm(W1,'W1')\n",
      "        plotm(X, 'X')\n",
      "        plotm(X1, 'X1')\n",
      "        plotm(Err2.T, 'Err2.T')\n",
      "    \n",
      "    dW2 = add_offset(X1).dot(Err2.T)\n",
      "    Err1 = W2.T[1:,:].dot(Err2) * (X1 * (1 - X1))\n",
      "    X = add_offset(X)\n",
      "    dW1 = Err1.dot(X.T)\n",
      "    return dW2.T, dW1"
     ],
     "language": "python",
     "metadata": {},
     "outputs": [],
     "prompt_number": 62
    },
    {
     "cell_type": "code",
     "collapsed": false,
     "input": [
      "N_groups = 10\n",
      "dimX = 784\n",
      "N_sample = 10000\n",
      "to_train = train_all[0:N_sample,:]\n",
      "to_validate = train_all[1001:2000,:]\n",
      "\n",
      "tr_ft, tr_lb = dat_get(to_train)\n",
      "va_ft, va_lb = dat_get(to_validate)\n",
      "X = tr_ft.T\n",
      "y_lb = tr_lb\n",
      "y = np.zeros((N_sample, N_groups))\n",
      "y[(range(len(y_lb)), y_lb)] = 1\n",
      "y = y.T\n",
      "\n",
      "Nu_2 = 30\n",
      "max_iter = 2000\n",
      "\n",
      "W2 = rnd.random((N_groups, Nu_2 + 1))-0.5\n",
      "alpha = 0.01*np.ones(W2.shape)\n",
      "W1 = 0.1*rnd.random((Nu_2, dimX + 1))-0.05\n",
      "Alpha = 0.01*np.ones(W1.shape)\n",
      "\n",
      "dW2 = np.ones(W2.shape)\n",
      "dW2_ = dW2\n",
      "dW1 = np.ones(W1.shape)\n",
      "dW1_ = dW1\n",
      "\n",
      "iterN = 0\n",
      "Errs = []\n",
      "_err = 1\n",
      "while _err >= 0.0001:\n",
      "    _s = np.random.choice(N_sample, 50)\n",
      "    phat = forward_all(X[:,_s], W1, W2)\n",
      "    _Err = y[:,_s] - phat\n",
      "    \n",
      "    dW2, dW1 = backward_(_Err, X[:,_s], W1, W2)\n",
      "    _err = sum(sum(abs(_Err)))\n",
      "    Errs.append(_err)\n",
      "    \n",
      "    alpha *= 0.9 + (np.sign(dW2) == np.sign(dW2_))*0.2\n",
      "    Alpha *= 0.9 + (np.sign(dW1) == np.sign(dW1_))*0.2\n",
      "\n",
      "    dW2_ = dW2\n",
      "    dW1_ = dW1\n",
      "    \n",
      "\n",
      "    W2 += alpha * dW2\n",
      "    W1 += Alpha * dW1\n",
      "    iterN += 1\n",
      "    print _err\n",
      "    if iterN >= max_iter:\n",
      "        break\n",
      "\n",
      "plt.plot(Errs)\n",
      "plt.show()"
     ],
     "language": "python",
     "metadata": {},
     "outputs": [
      {
       "output_type": "stream",
       "stream": "stdout",
       "text": [
        "259.788795849\n",
        "95.6872391681\n",
        "83.1363846512\n",
        "97.3969879309\n",
        "89.4152891813\n",
        "88.9350059174\n",
        "89.2777443847\n",
        "89.4380808143"
       ]
      },
      {
       "output_type": "stream",
       "stream": "stdout",
       "text": [
        "\n",
        "89.6922860717\n",
        "90.5149321923\n",
        "91.5072155465\n",
        "91.9786280919\n",
        "89.3579052005\n",
        "92.2548097371\n",
        "88.8596019163"
       ]
      },
      {
       "output_type": "stream",
       "stream": "stdout",
       "text": [
        "\n",
        "89.9089436862\n",
        "88.6155684371\n",
        "89.1738526268\n",
        "90.4135691735\n",
        "89.8565740491\n",
        "89.2490307572\n",
        "90.0948098642"
       ]
      },
      {
       "output_type": "stream",
       "stream": "stdout",
       "text": [
        "\n",
        "92.8911855771\n",
        "88.8628700333\n",
        "89.1305401149\n",
        "88.9857634719\n",
        "89.1157769688\n",
        "86.5755993625\n",
        "88.0096938705"
       ]
      },
      {
       "output_type": "stream",
       "stream": "stdout",
       "text": [
        "\n",
        "88.3015027881\n",
        "89.0702509441\n",
        "89.5725059372\n",
        "88.8560553665\n",
        "87.4659404274\n",
        "89.2155785012\n",
        "89.6116469717"
       ]
      },
      {
       "output_type": "stream",
       "stream": "stdout",
       "text": [
        "\n",
        "87.5665518601\n",
        "96.8038361556\n",
        "93.1538237714\n",
        "89.886456008\n",
        "90.0322870515\n",
        "89.5976296431\n",
        "93.7189246564"
       ]
      },
      {
       "output_type": "stream",
       "stream": "stdout",
       "text": [
        "\n",
        "91.0959605553\n",
        "92.2687373084\n",
        "96.3835765764\n",
        "91.2340027306\n",
        "91.5996177927\n",
        "91.4878715369\n",
        "92.7117314698"
       ]
      },
      {
       "output_type": "stream",
       "stream": "stdout",
       "text": [
        "\n",
        "91.4081092942\n",
        "90.2590392546\n",
        "91.5770136027\n",
        "90.8234711049\n",
        "88.5794323451\n",
        "89.048652082\n",
        "98.0236973661"
       ]
      },
      {
       "output_type": "stream",
       "stream": "stdout",
       "text": [
        "\n",
        "94.5473914691\n",
        "94.2469465642\n",
        "89.5092364409\n",
        "86.4980594539\n",
        "87.1968396572\n",
        "130.483103505\n",
        "83.4399704989"
       ]
      },
      {
       "output_type": "stream",
       "stream": "stdout",
       "text": [
        "\n",
        "81.4403246187\n",
        "77.3546953359\n",
        "83.167568976\n",
        "91.5392127261\n",
        "78.6475581156\n",
        "120.138248535\n",
        "87.6826384239"
       ]
      },
      {
       "output_type": "stream",
       "stream": "stdout",
       "text": [
        "\n",
        "80.7703901793\n",
        "75.2323914299\n",
        "98.824817824\n",
        "77.0069054219\n",
        "229.926869964\n",
        "81.8350020913\n",
        "86.8384355833"
       ]
      },
      {
       "output_type": "stream",
       "stream": "stdout",
       "text": [
        "\n",
        "59.5336475997\n",
        "55.8665106006\n",
        "86.9324993432\n",
        "63.3796715525\n",
        "63.1262370048\n",
        "99.368687372\n",
        "114.442845181"
       ]
      },
      {
       "output_type": "stream",
       "stream": "stdout",
       "text": [
        "\n",
        "99.700862151\n",
        "103.234966705\n",
        "72.1371336098\n",
        "70.5435733252\n",
        "80.4585696345\n",
        "70.7134789625\n",
        "100.592180775"
       ]
      },
      {
       "output_type": "stream",
       "stream": "stdout",
       "text": [
        "\n",
        "93.8139021983\n",
        "256.830804841\n",
        "62.0986091106\n",
        "68.0904804885\n",
        "65.814157791\n",
        "60.3169323119\n",
        "69.0425120563"
       ]
      },
      {
       "output_type": "stream",
       "stream": "stdout",
       "text": [
        "\n",
        "124.493333561\n",
        "93.8716399092\n",
        "57.9720737622\n",
        "194.059133609\n",
        "117.362638297\n",
        "65.4840480995\n",
        "65.2426830864"
       ]
      },
      {
       "output_type": "stream",
       "stream": "stdout",
       "text": [
        "\n",
        "59.8365875137\n",
        "133.44818411\n",
        "64.0318639147\n",
        "63.8211450557\n",
        "132.065857251\n",
        "113.70000423\n",
        "62.4721032132"
       ]
      },
      {
       "output_type": "stream",
       "stream": "stdout",
       "text": [
        "\n",
        "108.756095127\n",
        "105.338622931\n",
        "103.461909743\n",
        "63.9611489185\n",
        "118.629959099\n",
        "102.614044571\n",
        "106.109892438"
       ]
      },
      {
       "output_type": "stream",
       "stream": "stdout",
       "text": [
        "\n",
        "60.3254387081\n",
        "96.6681391587\n",
        "82.585817933\n",
        "93.8918255602\n",
        "91.3590168493\n",
        "61.7977586004\n",
        "105.674891144"
       ]
      },
      {
       "output_type": "stream",
       "stream": "stdout",
       "text": [
        "\n",
        "62.051042462\n",
        "145.756220355\n",
        "142.709110106\n",
        "57.5906403052\n",
        "140.291613469\n",
        "63.4018425775"
       ]
      },
      {
       "output_type": "stream",
       "stream": "stdout",
       "text": [
        "\n",
        "60.3650737706\n",
        "103.915395412\n",
        "60.5481148507\n",
        "124.433230335\n",
        "128.9396026\n",
        "59.3116384687"
       ]
      },
      {
       "output_type": "stream",
       "stream": "stdout",
       "text": [
        "\n",
        "61.2647510248\n",
        "59.1742049103\n",
        "149.260987243\n",
        "97.9826590227\n",
        "99.441927209\n",
        "137.138506956\n",
        "62.2771106858"
       ]
      },
      {
       "output_type": "stream",
       "stream": "stdout",
       "text": [
        "\n",
        "80.4100381682\n",
        "59.4679521285\n",
        "61.2236011144\n",
        "130.015233764\n",
        "335.0\n",
        "50.0\n",
        "92.0"
       ]
      },
      {
       "output_type": "stream",
       "stream": "stdout",
       "text": [
        "\n",
        "50.0\n",
        "50.0\n",
        "50.0\n",
        "88.0\n",
        "124.0\n",
        "90.0"
       ]
      },
      {
       "output_type": "stream",
       "stream": "stdout",
       "text": [
        "\n",
        "210.0\n",
        "90.0\n",
        "50.0\n",
        "92.0\n",
        "50.0\n",
        "84.0"
       ]
      },
      {
       "output_type": "stream",
       "stream": "stdout",
       "text": [
        "\n",
        "86.0\n",
        "136.0\n",
        "168.0\n",
        "90.0\n",
        "92.0\n",
        "50.0\n",
        "88.0"
       ]
      },
      {
       "output_type": "stream",
       "stream": "stdout",
       "text": [
        "\n",
        "50.0\n",
        "128.0\n",
        "92.0\n",
        "170.0\n",
        "94.0\n",
        "50.0\n",
        "130.0"
       ]
      },
      {
       "output_type": "stream",
       "stream": "stdout",
       "text": [
        "\n",
        "88.0\n",
        "90.0\n",
        "50.0\n",
        "132.0\n",
        "84.0\n",
        "140.0\n",
        "122.0"
       ]
      },
      {
       "output_type": "stream",
       "stream": "stdout",
       "text": [
        "\n",
        "50.0\n",
        "124.0\n",
        "50.0\n",
        "88.0\n",
        "50.0\n",
        "170.0\n",
        "90.0"
       ]
      },
      {
       "output_type": "stream",
       "stream": "stdout",
       "text": [
        "\n",
        "179.0\n",
        "92.0016094655\n",
        "88.0\n",
        "50.0\n",
        "50.0\n",
        "90.0\n",
        "88.0"
       ]
      },
      {
       "output_type": "stream",
       "stream": "stdout",
       "text": [
        "\n",
        "174.0\n",
        "96.0\n",
        "172.0\n",
        "88.0\n",
        "50.0\n",
        "50.0\n",
        "50.0"
       ]
      },
      {
       "output_type": "stream",
       "stream": "stdout",
       "text": [
        "\n",
        "122.0\n",
        "120.0\n",
        "90.0\n",
        "176.0\n",
        "86.0\n",
        "80.0\n",
        "50.0"
       ]
      },
      {
       "output_type": "stream",
       "stream": "stdout",
       "text": [
        "\n",
        "50.0\n",
        "94.0\n",
        "90.0\n",
        "172.0\n",
        "90.0\n",
        "206.0\n",
        "50.0"
       ]
      },
      {
       "output_type": "stream",
       "stream": "stdout",
       "text": [
        "\n",
        "50.0\n",
        "50.0\n",
        "92.0\n",
        "50.0\n",
        "202.0\n",
        "94.0"
       ]
      },
      {
       "output_type": "stream",
       "stream": "stdout",
       "text": [
        "\n",
        "128.0\n",
        "94.0\n",
        "86.0\n",
        "50.0\n",
        "50.0\n",
        "132.0\n",
        "126.0"
       ]
      },
      {
       "output_type": "stream",
       "stream": "stdout",
       "text": [
        "\n",
        "132.0\n",
        "50.0\n",
        "132.0\n",
        "50.0\n",
        "50.0\n",
        "160.0\n",
        "86.0"
       ]
      },
      {
       "output_type": "stream",
       "stream": "stdout",
       "text": [
        "\n",
        "132.0\n",
        "50.0\n",
        "184.0\n",
        "50.0\n",
        "92.0"
       ]
      },
      {
       "output_type": "stream",
       "stream": "stdout",
       "text": [
        "\n",
        "50.0\n",
        "166.0\n",
        "50.0\n",
        "168.0\n",
        "50.0"
       ]
      },
      {
       "output_type": "stream",
       "stream": "stdout",
       "text": [
        "\n",
        "130.0\n",
        "90.0\n",
        "50.0\n",
        "50.0\n",
        "158.0"
       ]
      },
      {
       "output_type": "stream",
       "stream": "stdout",
       "text": [
        "\n",
        "86.0\n",
        "82.0\n",
        "96.0\n",
        "134.0\n",
        "84.0\n",
        "92.0"
       ]
      },
      {
       "output_type": "stream",
       "stream": "stdout",
       "text": [
        "\n",
        "86.0\n",
        "128.0\n",
        "50.0\n",
        "138.0\n",
        "50.0\n",
        "122.0"
       ]
      },
      {
       "output_type": "stream",
       "stream": "stdout",
       "text": [
        "\n",
        "98.0\n",
        "120.0\n",
        "94.0\n",
        "86.0\n",
        "92.0\n",
        "94.0\n",
        "50.0"
       ]
      },
      {
       "output_type": "stream",
       "stream": "stdout",
       "text": [
        "\n",
        "174.0\n",
        "92.0\n",
        "50.0\n",
        "178.0\n",
        "124.0\n",
        "50.0\n",
        "50.0"
       ]
      },
      {
       "output_type": "stream",
       "stream": "stdout",
       "text": [
        "\n",
        "82.0\n",
        "126.0\n",
        "98.0\n",
        "90.0\n",
        "90.0\n",
        "172.0\n",
        "92.0"
       ]
      },
      {
       "output_type": "stream",
       "stream": "stdout",
       "text": [
        "\n",
        "90.0\n",
        "88.0\n",
        "50.0\n",
        "86.0\n",
        "96.0\n",
        "126.0\n",
        "126.0"
       ]
      },
      {
       "output_type": "stream",
       "stream": "stdout",
       "text": [
        "\n",
        "50.0\n",
        "50.0\n",
        "134.0\n",
        "88.0\n",
        "126.0\n",
        "176.0\n",
        "50.0"
       ]
      },
      {
       "output_type": "stream",
       "stream": "stdout",
       "text": [
        "\n",
        "94.0\n",
        "90.0\n",
        "50.0\n",
        "92.0\n",
        "92.0\n",
        "130.0"
       ]
      },
      {
       "output_type": "stream",
       "stream": "stdout",
       "text": [
        "\n",
        "172.0\n",
        "94.0\n",
        "50.0\n",
        "132.0\n",
        "50.0\n",
        "86.0"
       ]
      },
      {
       "output_type": "stream",
       "stream": "stdout",
       "text": [
        "\n",
        "136.0\n",
        "90.0\n",
        "86.0\n",
        "170.0\n",
        "50.0\n",
        "82.0"
       ]
      },
      {
       "output_type": "stream",
       "stream": "stdout",
       "text": [
        "\n",
        "50.0\n",
        "90.0\n",
        "86.0\n",
        "88.0\n",
        "134.0\n",
        "128.0"
       ]
      },
      {
       "output_type": "stream",
       "stream": "stdout",
       "text": [
        "\n",
        "168.0\n",
        "50.0\n",
        "50.0\n",
        "50.0\n",
        "90.0\n",
        "124.0"
       ]
      },
      {
       "output_type": "stream",
       "stream": "stdout",
       "text": [
        "\n",
        "80.0\n",
        "88.0\n",
        "220.0\n",
        "90.0\n",
        "50.0\n",
        "88.0"
       ]
      },
      {
       "output_type": "stream",
       "stream": "stdout",
       "text": [
        "\n",
        "50.0\n",
        "90.0\n",
        "134.0\n",
        "136.0\n",
        "92.0\n",
        "126.0"
       ]
      },
      {
       "output_type": "stream",
       "stream": "stdout",
       "text": [
        "\n",
        "92.0\n",
        "50.0\n",
        "92.0\n",
        "132.0\n",
        "50.0\n",
        "86.0"
       ]
      },
      {
       "output_type": "stream",
       "stream": "stdout",
       "text": [
        "\n",
        "132.0\n",
        "130.0\n",
        "86.0\n",
        "50.0\n",
        "134.0"
       ]
      },
      {
       "output_type": "stream",
       "stream": "stdout",
       "text": [
        "\n",
        "88.0\n",
        "120.0\n",
        "92.0\n",
        "50.0\n",
        "130.0\n",
        "90.0\n",
        "88.0"
       ]
      },
      {
       "output_type": "stream",
       "stream": "stdout",
       "text": [
        "\n",
        "88.0\n",
        "176.0\n",
        "50.0\n",
        "130.0\n",
        "50.0\n",
        "92.0\n",
        "120.0"
       ]
      },
      {
       "output_type": "stream",
       "stream": "stdout",
       "text": [
        "\n",
        "50.0\n",
        "122.0\n",
        "92.0\n",
        "86.0\n",
        "136.0\n",
        "128.0\n",
        "50.0"
       ]
      },
      {
       "output_type": "stream",
       "stream": "stdout",
       "text": [
        "\n",
        "124.0\n",
        "88.0\n",
        "92.0\n",
        "50.0\n",
        "92.0\n",
        "50.0\n",
        "264.0"
       ]
      },
      {
       "output_type": "stream",
       "stream": "stdout",
       "text": [
        "\n",
        "50.0\n",
        "86.0\n",
        "134.0\n",
        "92.0\n",
        "50.0\n",
        "50.0\n",
        "140.0"
       ]
      },
      {
       "output_type": "stream",
       "stream": "stdout",
       "text": [
        "\n",
        "86.0\n",
        "136.0\n",
        "130.0\n",
        "92.0\n",
        "94.0\n",
        "98.0\n",
        "92.0"
       ]
      },
      {
       "output_type": "stream",
       "stream": "stdout",
       "text": [
        "\n",
        "50.0\n",
        "174.0\n",
        "50.0\n",
        "126.0\n",
        "128.0\n",
        "50.0\n",
        "50.0"
       ]
      },
      {
       "output_type": "stream",
       "stream": "stdout",
       "text": [
        "\n",
        "92.0\n",
        "50.0\n",
        "80.0\n",
        "252.0\n",
        "92.0\n",
        "94.0\n",
        "50.0"
       ]
      },
      {
       "output_type": "stream",
       "stream": "stdout",
       "text": [
        "\n",
        "92.0\n",
        "92.0\n",
        "128.0\n",
        "88.0\n",
        "50.0\n",
        "174.0"
       ]
      },
      {
       "output_type": "stream",
       "stream": "stdout",
       "text": [
        "\n",
        "90.0\n",
        "50.0\n",
        "130.0\n",
        "50.0\n",
        "50.0\n",
        "162.0"
       ]
      },
      {
       "output_type": "stream",
       "stream": "stdout",
       "text": [
        "\n",
        "90.0\n",
        "84.0\n",
        "92.0\n",
        "124.0\n",
        "134.0\n",
        "50.0"
       ]
      },
      {
       "output_type": "stream",
       "stream": "stdout",
       "text": [
        "\n",
        "50.0\n",
        "92.0\n",
        "130.0\n",
        "50.0\n",
        "124.0\n",
        "170.0"
       ]
      },
      {
       "output_type": "stream",
       "stream": "stdout",
       "text": [
        "\n",
        "88.0\n",
        "50.0\n",
        "92.0\n",
        "94.0\n",
        "90.0\n",
        "134.0"
       ]
      },
      {
       "output_type": "stream",
       "stream": "stdout",
       "text": [
        "\n",
        "90.0\n",
        "82.0\n",
        "168.0\n",
        "50.0\n",
        "84.0"
       ]
      },
      {
       "output_type": "stream",
       "stream": "stdout",
       "text": [
        "\n",
        "50.0\n",
        "94.0\n",
        "88.0\n",
        "134.0\n",
        "172.0\n",
        "50.0"
       ]
      },
      {
       "output_type": "stream",
       "stream": "stdout",
       "text": [
        "\n",
        "122.0\n",
        "92.0\n",
        "50.0\n",
        "50.0\n",
        "168.0\n",
        "86.0"
       ]
      },
      {
       "output_type": "stream",
       "stream": "stdout",
       "text": [
        "\n",
        "94.0\n",
        "136.0\n",
        "84.0\n",
        "90.0\n",
        "50.0\n",
        "94.0"
       ]
      },
      {
       "output_type": "stream",
       "stream": "stdout",
       "text": [
        "\n",
        "176.0\n",
        "50.0\n",
        "132.0\n",
        "50.0\n",
        "142.0\n",
        "82.0"
       ]
      },
      {
       "output_type": "stream",
       "stream": "stdout",
       "text": [
        "\n",
        "94.0\n",
        "136.0\n",
        "50.0\n",
        "134.0\n",
        "90.0\n",
        "50.0"
       ]
      },
      {
       "output_type": "stream",
       "stream": "stdout",
       "text": [
        "\n",
        "126.0\n",
        "174.0\n",
        "86.0\n",
        "88.0\n",
        "50.0\n",
        "50.0"
       ]
      },
      {
       "output_type": "stream",
       "stream": "stdout",
       "text": [
        "\n",
        "168.0\n",
        "50.0\n",
        "128.0\n",
        "50.0\n",
        "174.0\n",
        "136.0"
       ]
      },
      {
       "output_type": "stream",
       "stream": "stdout",
       "text": [
        "\n",
        "50.0\n",
        "50.0\n",
        "50.0\n",
        "172.0\n",
        "50.0\n",
        "158.0"
       ]
      },
      {
       "output_type": "stream",
       "stream": "stdout",
       "text": [
        "\n",
        "90.0\n",
        "172.0\n",
        "50.0\n",
        "50.0\n",
        "90.0\n",
        "86.0"
       ]
      },
      {
       "output_type": "stream",
       "stream": "stdout",
       "text": [
        "\n",
        "96.0\n",
        "92.0\n",
        "118.0\n",
        "136.0\n",
        "92.0\n",
        "92.0"
       ]
      },
      {
       "output_type": "stream",
       "stream": "stdout",
       "text": [
        "\n",
        "50.0\n",
        "136.0\n",
        "88.0\n",
        "164.0\n",
        "92.0"
       ]
      },
      {
       "output_type": "stream",
       "stream": "stdout",
       "text": [
        "\n",
        "94.0\n",
        "50.0\n",
        "50.0\n",
        "88.0\n",
        "138.0\n",
        "86.0"
       ]
      },
      {
       "output_type": "stream",
       "stream": "stdout",
       "text": [
        "\n",
        "174.0\n",
        "142.0\n",
        "88.0\n",
        "50.0\n",
        "50.0\n",
        "90.0"
       ]
      },
      {
       "output_type": "stream",
       "stream": "stdout",
       "text": [
        "\n",
        "126.0\n",
        "50.0\n",
        "174.0\n",
        "124.0\n",
        "130.0\n",
        "50.0"
       ]
      },
      {
       "output_type": "stream",
       "stream": "stdout",
       "text": [
        "\n",
        "50.0\n",
        "50.0\n",
        "136.0\n",
        "50.0\n",
        "94.0\n",
        "136.0\n",
        "260.0"
       ]
      },
      {
       "output_type": "stream",
       "stream": "stdout",
       "text": [
        "\n",
        "50.0\n",
        "50.0\n",
        "50.0\n",
        "88.0\n",
        "90.0\n",
        "80.0\n",
        "130.0"
       ]
      },
      {
       "output_type": "stream",
       "stream": "stdout",
       "text": [
        "\n",
        "160.0\n",
        "138.0\n",
        "50.0\n",
        "82.0\n",
        "50.0\n",
        "50.0"
       ]
      },
      {
       "output_type": "stream",
       "stream": "stdout",
       "text": [
        "\n",
        "84.0\n",
        "178.0\n",
        "84.0\n",
        "166.0\n",
        "50.0\n",
        "90.0"
       ]
      },
      {
       "output_type": "stream",
       "stream": "stdout",
       "text": [
        "\n",
        "80.0\n",
        "50.0\n",
        "92.0\n",
        "134.0\n",
        "120.0\n",
        "126.0"
       ]
      },
      {
       "output_type": "stream",
       "stream": "stdout",
       "text": [
        "\n",
        "50.0\n",
        "94.0\n",
        "94.0\n",
        "50.0\n",
        "178.0\n",
        "84.0"
       ]
      },
      {
       "output_type": "stream",
       "stream": "stdout",
       "text": [
        "\n",
        "96.0\n",
        "86.0\n",
        "92.0\n",
        "92.0\n",
        "88.0\n",
        "80.0\n",
        "128.0"
       ]
      },
      {
       "output_type": "stream",
       "stream": "stdout",
       "text": [
        "\n",
        "124.0\n",
        "50.0\n",
        "132.0\n",
        "94.0\n",
        "50.0\n",
        "50.0\n",
        "166.0"
       ]
      },
      {
       "output_type": "stream",
       "stream": "stdout",
       "text": [
        "\n",
        "86.0\n",
        "132.0\n",
        "90.0\n",
        "50.0\n",
        "122.0\n",
        "92.0\n",
        "50.0"
       ]
      },
      {
       "output_type": "stream",
       "stream": "stdout",
       "text": [
        "\n",
        "124.0\n",
        "124.0\n",
        "50.0\n",
        "132.0\n",
        "126.0\n",
        "50.0\n",
        "90.0"
       ]
      },
      {
       "output_type": "stream",
       "stream": "stdout",
       "text": [
        "\n",
        "122.0\n",
        "92.0\n",
        "88.0\n",
        "92.0\n",
        "86.0\n",
        "92.0\n",
        "92.0"
       ]
      },
      {
       "output_type": "stream",
       "stream": "stdout",
       "text": [
        "\n",
        "88.0\n",
        "184.0\n",
        "126.0\n",
        "50.0\n",
        "50.0\n",
        "132.0\n",
        "92.0"
       ]
      },
      {
       "output_type": "stream",
       "stream": "stdout",
       "text": [
        "\n",
        "50.0\n",
        "92.0\n",
        "208.0\n",
        "120.0\n",
        "50.0\n",
        "50.0\n",
        "136.0"
       ]
      },
      {
       "output_type": "stream",
       "stream": "stdout",
       "text": [
        "\n",
        "50.0\n",
        "88.0\n",
        "50.0\n",
        "202.0\n",
        "170.0\n",
        "50.0\n",
        "50.0"
       ]
      },
      {
       "output_type": "stream",
       "stream": "stdout",
       "text": [
        "\n",
        "50.0\n",
        "96.0\n",
        "86.0\n",
        "166.0\n",
        "50.0\n",
        "224.0\n",
        "88.0"
       ]
      },
      {
       "output_type": "stream",
       "stream": "stdout",
       "text": [
        "\n",
        "50.0\n",
        "50.0\n",
        "80.0\n",
        "86.0\n",
        "50.0\n",
        "134.0\n",
        "182.0"
       ]
      },
      {
       "output_type": "stream",
       "stream": "stdout",
       "text": [
        "\n",
        "126.0\n",
        "50.0\n",
        "80.0\n",
        "128.0\n",
        "50.0\n",
        "50.0\n",
        "90.0"
       ]
      },
      {
       "output_type": "stream",
       "stream": "stdout",
       "text": [
        "\n",
        "132.0\n",
        "178.0\n",
        "124.0\n",
        "50.0\n",
        "90.0\n",
        "88.0\n",
        "50.0"
       ]
      },
      {
       "output_type": "stream",
       "stream": "stdout",
       "text": [
        "\n",
        "50.0\n",
        "136.0\n",
        "170.0\n",
        "86.0\n",
        "132.0\n",
        "96.0\n",
        "50.0"
       ]
      },
      {
       "output_type": "stream",
       "stream": "stdout",
       "text": [
        "\n",
        "50.0\n",
        "86.0\n",
        "50.0\n",
        "138.0\n",
        "208.0\n",
        "130.0\n",
        "90.0"
       ]
      },
      {
       "output_type": "stream",
       "stream": "stdout",
       "text": [
        "\n",
        "50.0\n",
        "50.0\n",
        "50.0\n",
        "80.0\n",
        "126.0\n",
        "164.0\n",
        "94.0"
       ]
      },
      {
       "output_type": "stream",
       "stream": "stdout",
       "text": [
        "\n",
        "138.0\n",
        "50.0\n",
        "96.0\n",
        "50.0\n",
        "94.0\n",
        "134.0\n",
        "130.0"
       ]
      },
      {
       "output_type": "stream",
       "stream": "stdout",
       "text": [
        "\n",
        "130.0\n",
        "88.0\n",
        "96.0\n",
        "50.0\n",
        "132.0\n",
        "50.0\n",
        "92.0"
       ]
      },
      {
       "output_type": "stream",
       "stream": "stdout",
       "text": [
        "\n",
        "166.0\n",
        "88.0\n",
        "92.0\n",
        "92.0\n",
        "94.0\n",
        "134.0\n",
        "50.0"
       ]
      },
      {
       "output_type": "stream",
       "stream": "stdout",
       "text": [
        "\n",
        "130.0\n",
        "90.0\n",
        "88.0\n",
        "94.0\n",
        "142.0\n",
        "90.0\n",
        "50.0"
       ]
      },
      {
       "output_type": "stream",
       "stream": "stdout",
       "text": [
        "\n",
        "138.0\n",
        "92.0\n",
        "134.0\n",
        "92.0\n",
        "94.0\n",
        "88.0\n",
        "96.0"
       ]
      },
      {
       "output_type": "stream",
       "stream": "stdout",
       "text": [
        "\n",
        "80.0\n",
        "50.0\n",
        "168.0\n",
        "98.0\n",
        "92.0\n",
        "132.0\n",
        "94.0"
       ]
      },
      {
       "output_type": "stream",
       "stream": "stdout",
       "text": [
        "\n",
        "90.0\n",
        "92.0\n",
        "94.0\n",
        "50.0\n",
        "96.0\n",
        "128.0\n",
        "176.0"
       ]
      },
      {
       "output_type": "stream",
       "stream": "stdout",
       "text": [
        "\n",
        "90.0\n",
        "50.0\n",
        "88.0\n",
        "86.0\n",
        "84.0\n",
        "96.0\n",
        "96.0"
       ]
      },
      {
       "output_type": "stream",
       "stream": "stdout",
       "text": [
        "\n",
        "88.0\n",
        "134.0\n",
        "164.0\n",
        "50.0\n",
        "88.0\n",
        "50.0"
       ]
      },
      {
       "output_type": "stream",
       "stream": "stdout",
       "text": [
        "\n",
        "90.0\n",
        "174.0\n",
        "50.0\n",
        "88.0\n",
        "96.0\n",
        "136.0\n",
        "84.0"
       ]
      },
      {
       "output_type": "stream",
       "stream": "stdout",
       "text": [
        "\n",
        "90.0\n",
        "180.0\n",
        "50.0\n",
        "84.0\n",
        "94.0\n",
        "50.0\n",
        "92.0"
       ]
      },
      {
       "output_type": "stream",
       "stream": "stdout",
       "text": [
        "\n",
        "92.0\n",
        "136.0\n",
        "128.0\n",
        "124.0\n",
        "94.0\n",
        "50.0\n",
        "50.0"
       ]
      },
      {
       "output_type": "stream",
       "stream": "stdout",
       "text": [
        "\n",
        "90.0\n",
        "88.0\n",
        "176.0\n",
        "130.0\n",
        "90.0\n",
        "98.0\n",
        "94.0"
       ]
      },
      {
       "output_type": "stream",
       "stream": "stdout",
       "text": [
        "\n",
        "50.0\n",
        "90.0\n",
        "88.0\n",
        "174.0\n",
        "88.0\n",
        "142.0\n",
        "94.0"
       ]
      },
      {
       "output_type": "stream",
       "stream": "stdout",
       "text": [
        "\n",
        "50.0\n",
        "50.0\n",
        "50.0\n",
        "140.0\n",
        "168.0\n",
        "80.0\n",
        "84.0"
       ]
      },
      {
       "output_type": "stream",
       "stream": "stdout",
       "text": [
        "\n",
        "166.0\n",
        "50.0\n",
        "50.0\n",
        "50.0\n",
        "92.0\n",
        "166.0\n",
        "174.0"
       ]
      },
      {
       "output_type": "stream",
       "stream": "stdout",
       "text": [
        "\n",
        "96.0\n",
        "50.0\n",
        "92.0\n",
        "88.0\n",
        "50.0\n",
        "92.0\n",
        "126.0"
       ]
      },
      {
       "output_type": "stream",
       "stream": "stdout",
       "text": [
        "\n",
        "50.0\n",
        "204.0\n",
        "94.0\n",
        "88.0\n",
        "92.0\n",
        "50.0"
       ]
      },
      {
       "output_type": "stream",
       "stream": "stdout",
       "text": [
        "\n",
        "84.0\n",
        "88.0\n",
        "90.0\n",
        "50.0\n",
        "174.0\n",
        "220.0\n",
        "50.0"
       ]
      },
      {
       "output_type": "stream",
       "stream": "stdout",
       "text": [
        "\n",
        "50.0\n",
        "50.0\n",
        "132.0\n",
        "94.0\n",
        "50.0\n",
        "168.0\n",
        "168.0"
       ]
      },
      {
       "output_type": "stream",
       "stream": "stdout",
       "text": [
        "\n",
        "50.0\n",
        "90.0\n",
        "50.0\n",
        "50.0\n",
        "126.0\n",
        "90.0\n",
        "88.0"
       ]
      },
      {
       "output_type": "stream",
       "stream": "stdout",
       "text": [
        "\n",
        "246.0\n",
        "50.0\n",
        "50.0\n",
        "88.0\n",
        "50.0\n",
        "92.0\n",
        "168.0"
       ]
      },
      {
       "output_type": "stream",
       "stream": "stdout",
       "text": [
        "\n",
        "50.0\n",
        "130.0\n",
        "126.0\n",
        "50.0\n",
        "92.0\n",
        "50.0\n",
        "136.0"
       ]
      },
      {
       "output_type": "stream",
       "stream": "stdout",
       "text": [
        "\n",
        "180.0\n",
        "94.0\n",
        "90.0\n",
        "90.0\n",
        "88.0\n",
        "50.0\n",
        "50.0"
       ]
      },
      {
       "output_type": "stream",
       "stream": "stdout",
       "text": [
        "\n",
        "86.0\n",
        "192.0\n",
        "84.0\n",
        "86.0\n",
        "126.0\n",
        "50.0\n",
        "92.0"
       ]
      },
      {
       "output_type": "stream",
       "stream": "stdout",
       "text": [
        "\n",
        "50.0\n",
        "138.0\n",
        "88.0\n",
        "130.0\n",
        "126.0\n",
        "118.0\n",
        "50.0"
       ]
      },
      {
       "output_type": "stream",
       "stream": "stdout",
       "text": [
        "\n",
        "50.0\n",
        "92.0\n",
        "88.0\n",
        "50.0\n",
        "160.0\n",
        "136.0\n",
        "182.0"
       ]
      },
      {
       "output_type": "stream",
       "stream": "stdout",
       "text": [
        "\n",
        "50.0\n",
        "50.0\n",
        "128.0\n",
        "50.0\n",
        "50.0\n",
        "124.0"
       ]
      },
      {
       "output_type": "stream",
       "stream": "stdout",
       "text": [
        "\n",
        "90.0\n",
        "138.0\n",
        "122.0\n",
        "138.0\n",
        "96.0\n",
        "50.0\n",
        "50.0"
       ]
      },
      {
       "output_type": "stream",
       "stream": "stdout",
       "text": [
        "\n",
        "130.0\n",
        "50.0\n",
        "220.0\n",
        "88.0\n",
        "92.0\n",
        "50.0\n",
        "94.0"
       ]
      },
      {
       "output_type": "stream",
       "stream": "stdout",
       "text": [
        "\n",
        "86.0\n",
        "128.0\n",
        "50.0\n",
        "184.0\n",
        "50.0\n",
        "170.0\n",
        "50.0"
       ]
      },
      {
       "output_type": "stream",
       "stream": "stdout",
       "text": [
        "\n",
        "86.0\n",
        "84.0\n",
        "92.0\n",
        "90.0\n",
        "84.0\n",
        "94.0\n",
        "134.0"
       ]
      },
      {
       "output_type": "stream",
       "stream": "stdout",
       "text": [
        "\n",
        "122.0\n",
        "86.0\n",
        "86.0\n",
        "50.0\n",
        "90.0\n",
        "132.0\n",
        "50.0"
       ]
      },
      {
       "output_type": "stream",
       "stream": "stdout",
       "text": [
        "\n",
        "214.0\n",
        "50.0\n",
        "92.0\n",
        "86.0\n",
        "50.0\n",
        "130.0\n",
        "132.0"
       ]
      },
      {
       "output_type": "stream",
       "stream": "stdout",
       "text": [
        "\n",
        "88.0\n",
        "50.0\n",
        "208.0\n",
        "50.0\n",
        "50.0\n",
        "50.0\n",
        "174.0"
       ]
      },
      {
       "output_type": "stream",
       "stream": "stdout",
       "text": [
        "\n",
        "92.0\n",
        "88.0\n",
        "94.0\n",
        "82.0\n",
        "160.0\n",
        "50.0\n",
        "88.0"
       ]
      },
      {
       "output_type": "stream",
       "stream": "stdout",
       "text": [
        "\n",
        "88.0\n",
        "50.0\n",
        "94.0\n",
        "180.0\n",
        "50.0\n",
        "204.0"
       ]
      },
      {
       "output_type": "stream",
       "stream": "stdout",
       "text": [
        "\n",
        "49.0\n",
        "94.0\n",
        "50.0\n",
        "92.0\n",
        "50.0\n",
        "119.0\n",
        "214.0"
       ]
      },
      {
       "output_type": "stream",
       "stream": "stdout",
       "text": [
        "\n",
        "50.0\n",
        "50.0\n",
        "132.0\n",
        "84.0\n",
        "92.0\n",
        "50.0\n",
        "88.0"
       ]
      },
      {
       "output_type": "stream",
       "stream": "stdout",
       "text": [
        "\n",
        "178.0\n",
        "94.0\n",
        "90.0\n",
        "126.0\n",
        "96.0\n",
        "50.0\n",
        "132.0"
       ]
      },
      {
       "output_type": "stream",
       "stream": "stdout",
       "text": [
        "\n",
        "50.0\n",
        "92.0\n",
        "198.0\n",
        "88.0\n",
        "50.0\n",
        "50.0\n",
        "134.0"
       ]
      },
      {
       "output_type": "stream",
       "stream": "stdout",
       "text": [
        "\n",
        "98.0\n",
        "86.0\n",
        "50.0\n",
        "166.0\n",
        "120.0\n",
        "82.0\n",
        "96.0"
       ]
      },
      {
       "output_type": "stream",
       "stream": "stdout",
       "text": [
        "\n",
        "84.0\n",
        "50.0\n",
        "86.0\n",
        "50.0\n",
        "164.0\n",
        "170.0\n",
        "90.0"
       ]
      },
      {
       "output_type": "stream",
       "stream": "stdout",
       "text": [
        "\n",
        "88.0\n",
        "50.0\n",
        "98.0\n",
        "50.0\n",
        "130.0\n",
        "128.0\n",
        "92.0"
       ]
      },
      {
       "output_type": "stream",
       "stream": "stdout",
       "text": [
        "\n",
        "170.0\n",
        "50.0\n",
        "94.0\n",
        "50.0\n",
        "92.0\n",
        "176.0\n",
        "50.0"
       ]
      },
      {
       "output_type": "stream",
       "stream": "stdout",
       "text": [
        "\n",
        "130.0\n",
        "90.0\n",
        "92.0\n",
        "130.0\n",
        "50.0\n",
        "92.0\n",
        "160.0"
       ]
      },
      {
       "output_type": "stream",
       "stream": "stdout",
       "text": [
        "\n",
        "50.0\n",
        "92.0\n",
        "92.0\n",
        "134.0\n",
        "50.0\n",
        "90.0"
       ]
      },
      {
       "output_type": "stream",
       "stream": "stdout",
       "text": [
        "\n",
        "164.0\n",
        "86.0\n",
        "92.0\n",
        "124.0\n",
        "50.0\n",
        "50.0\n",
        "50.0"
       ]
      },
      {
       "output_type": "stream",
       "stream": "stdout",
       "text": [
        "\n",
        "126.0\n",
        "120.0\n",
        "168.0\n",
        "92.0\n",
        "84.0\n",
        "80.0\n",
        "50.0"
       ]
      },
      {
       "output_type": "stream",
       "stream": "stdout",
       "text": [
        "\n",
        "50.0\n",
        "94.0\n",
        "160.0\n",
        "50.0\n",
        "164.0\n",
        "122.0\n",
        "94.0"
       ]
      },
      {
       "output_type": "stream",
       "stream": "stdout",
       "text": [
        "\n",
        "50.0\n",
        "50.0\n",
        "88.0\n",
        "100.0\n",
        "168.0\n",
        "130.0"
       ]
      },
      {
       "output_type": "stream",
       "stream": "stdout",
       "text": [
        "\n",
        "132.0\n",
        "92.0\n",
        "50.0\n",
        "50.0\n",
        "50.0\n",
        "84.0"
       ]
      },
      {
       "output_type": "stream",
       "stream": "stdout",
       "text": [
        "\n",
        "138.0\n",
        "166.0\n",
        "128.0\n",
        "128.0\n",
        "50.0\n",
        "50.0"
       ]
      },
      {
       "output_type": "stream",
       "stream": "stdout",
       "text": [
        "\n",
        "50.0\n",
        "88.0\n",
        "94.0\n",
        "90.0\n",
        "170.0\n",
        "174.0"
       ]
      },
      {
       "output_type": "stream",
       "stream": "stdout",
       "text": [
        "\n",
        "50.0\n",
        "94.0\n",
        "50.0\n",
        "50.0\n",
        "124.0\n",
        "134.0\n",
        "136.0"
       ]
      },
      {
       "output_type": "stream",
       "stream": "stdout",
       "text": [
        "\n",
        "134.0\n",
        "96.0\n",
        "50.0\n",
        "92.0\n",
        "142.0\n",
        "50.0"
       ]
      },
      {
       "output_type": "stream",
       "stream": "stdout",
       "text": [
        "\n",
        "138.0\n",
        "90.0\n",
        "132.0\n",
        "88.0\n",
        "50.0\n",
        "142.0\n",
        "94.0"
       ]
      },
      {
       "output_type": "stream",
       "stream": "stdout",
       "text": [
        "\n",
        "50.0\n",
        "94.0\n",
        "172.0\n",
        "94.0\n",
        "132.0\n",
        "50.0\n",
        "94.0"
       ]
      },
      {
       "output_type": "stream",
       "stream": "stdout",
       "text": [
        "\n",
        "112.0\n",
        "50.0\n",
        "50.0\n",
        "94.0\n",
        "168.0\n",
        "132.0\n",
        "98.0"
       ]
      },
      {
       "output_type": "stream",
       "stream": "stdout",
       "text": [
        "\n",
        "50.0\n",
        "167.0\n",
        "50.0\n",
        "50.0\n",
        "96.0\n",
        "176.0\n",
        "84.0"
       ]
      },
      {
       "output_type": "stream",
       "stream": "stdout",
       "text": [
        "\n",
        "130.0\n",
        "50.0\n",
        "118.0\n",
        "50.0\n",
        "92.0\n",
        "50.0\n",
        "128.0"
       ]
      },
      {
       "output_type": "stream",
       "stream": "stdout",
       "text": [
        "\n",
        "170.0\n",
        "84.0\n",
        "90.0\n",
        "122.0\n",
        "50.0\n",
        "50.0\n",
        "94.0"
       ]
      },
      {
       "output_type": "stream",
       "stream": "stdout",
       "text": [
        "\n",
        "130.0\n",
        "126.0\n",
        "130.0\n",
        "50.0\n",
        "90.0\n",
        "130.0\n",
        "94.0"
       ]
      },
      {
       "output_type": "stream",
       "stream": "stdout",
       "text": [
        "\n",
        "90.0\n",
        "50.0\n",
        "92.0\n",
        "198.0\n",
        "50.0\n",
        "84.0\n",
        "50.0"
       ]
      },
      {
       "output_type": "stream",
       "stream": "stdout",
       "text": [
        "\n",
        "92.0\n",
        "92.0\n",
        "126.0\n",
        "50.0\n",
        "224.0\n",
        "92.0\n",
        "90.0"
       ]
      },
      {
       "output_type": "stream",
       "stream": "stdout",
       "text": [
        "\n",
        "88.0\n",
        "50.0\n",
        "96.0\n",
        "50.0\n",
        "166.0\n",
        "134.0"
       ]
      },
      {
       "output_type": "stream",
       "stream": "stdout",
       "text": [
        "\n",
        "134.0\n",
        "94.0\n",
        "50.0\n",
        "50.0\n",
        "144.0\n",
        "50.0\n",
        "168.0"
       ]
      },
      {
       "output_type": "stream",
       "stream": "stdout",
       "text": [
        "\n",
        "128.0\n",
        "50.0\n",
        "90.0\n",
        "90.0\n",
        "84.0\n",
        "90.0\n",
        "136.0"
       ]
      },
      {
       "output_type": "stream",
       "stream": "stdout",
       "text": [
        "\n",
        "84.0\n",
        "96.0\n",
        "130.0\n",
        "50.0\n",
        "96.0\n",
        "166.0\n",
        "50.0"
       ]
      },
      {
       "output_type": "stream",
       "stream": "stdout",
       "text": [
        "\n",
        "86.0\n",
        "176.0\n",
        "50.0\n",
        "94.0\n",
        "90.0\n",
        "90.0\n",
        "86.0"
       ]
      },
      {
       "output_type": "stream",
       "stream": "stdout",
       "text": [
        "\n",
        "94.0\n",
        "132.0\n",
        "94.0\n",
        "84.0\n",
        "92.0\n",
        "128.0\n",
        "90.0"
       ]
      },
      {
       "output_type": "stream",
       "stream": "stdout",
       "text": [
        "\n",
        "98.0\n",
        "132.0\n",
        "50.0\n",
        "50.0\n",
        "128.0\n",
        "128.0\n",
        "84.0"
       ]
      },
      {
       "output_type": "stream",
       "stream": "stdout",
       "text": [
        "\n",
        "50.0\n",
        "168.0\n",
        "92.0\n",
        "88.0\n",
        "50.0\n",
        "88.0"
       ]
      },
      {
       "output_type": "stream",
       "stream": "stdout",
       "text": [
        "\n",
        "134.0\n",
        "128.0\n",
        "86.0\n",
        "84.0\n",
        "140.0\n",
        "94.0\n",
        "50.0"
       ]
      },
      {
       "output_type": "stream",
       "stream": "stdout",
       "text": [
        "\n",
        "140.0\n",
        "50.0\n",
        "92.0\n",
        "132.0\n",
        "174.0\n",
        "50.0"
       ]
      },
      {
       "output_type": "stream",
       "stream": "stdout",
       "text": [
        "\n",
        "94.0\n",
        "90.0\n",
        "50.0\n",
        "86.0\n",
        "132.0\n",
        "92.0\n",
        "182.0"
       ]
      },
      {
       "output_type": "stream",
       "stream": "stdout",
       "text": [
        "\n",
        "50.0\n",
        "94.0\n",
        "122.0\n",
        "50.0\n",
        "84.0\n",
        "50.0\n",
        "94.0"
       ]
      },
      {
       "output_type": "stream",
       "stream": "stdout",
       "text": [
        "\n",
        "262.0\n",
        "50.0\n",
        "50.0\n",
        "132.0\n",
        "90.0\n",
        "94.0\n",
        "50.0"
       ]
      },
      {
       "output_type": "stream",
       "stream": "stdout",
       "text": [
        "\n",
        "92.0\n",
        "208.0\n",
        "86.0\n",
        "50.0\n",
        "134.0\n",
        "50.0\n",
        "90.0"
       ]
      },
      {
       "output_type": "stream",
       "stream": "stdout",
       "text": [
        "\n",
        "84.0\n",
        "98.0\n",
        "86.0\n",
        "130.0\n",
        "174.0\n",
        "94.0\n",
        "50.0"
       ]
      },
      {
       "output_type": "stream",
       "stream": "stdout",
       "text": [
        "\n",
        "88.0\n",
        "50.0\n",
        "92.0\n",
        "130.0\n",
        "126.0\n",
        "128.0\n",
        "88.0"
       ]
      },
      {
       "output_type": "stream",
       "stream": "stdout",
       "text": [
        "\n",
        "50.0\n",
        "124.0\n",
        "50.0\n",
        "50.0\n",
        "124.0\n",
        "50.0\n",
        "245.0"
       ]
      },
      {
       "output_type": "stream",
       "stream": "stdout",
       "text": [
        "\n",
        "88.0\n",
        "88.0\n",
        "50.0\n",
        "94.0\n",
        "86.0\n",
        "91.0\n",
        "50.0"
       ]
      },
      {
       "output_type": "stream",
       "stream": "stdout",
       "text": [
        "\n",
        "172.0\n",
        "91.0\n",
        "132.0\n",
        "92.0\n",
        "88.0\n",
        "98.0\n",
        "50.0"
       ]
      },
      {
       "output_type": "stream",
       "stream": "stdout",
       "text": [
        "\n",
        "96.0\n",
        "80.0\n",
        "168.0\n",
        "122.0\n",
        "50.0\n",
        "94.0\n",
        "82.0"
       ]
      },
      {
       "output_type": "stream",
       "stream": "stdout",
       "text": [
        "\n",
        "88.0\n",
        "50.0\n",
        "88.0\n",
        "204.0\n",
        "92.0\n",
        "94.0\n",
        "50.0"
       ]
      },
      {
       "output_type": "stream",
       "stream": "stdout",
       "text": [
        "\n",
        "92.0\n",
        "124.0\n",
        "50.0\n",
        "128.0\n",
        "126.0\n",
        "50.0\n",
        "138.0"
       ]
      },
      {
       "output_type": "stream",
       "stream": "stdout",
       "text": [
        "\n",
        "90.0\n",
        "84.0\n",
        "50.0\n",
        "170.0\n",
        "132.0\n",
        "88.0\n",
        "50.0"
       ]
      },
      {
       "output_type": "stream",
       "stream": "stdout",
       "text": [
        "\n",
        "50.0\n",
        "162.0\n",
        "50.0\n",
        "132.0\n",
        "50.0\n",
        "217.0\n",
        "50.0"
       ]
      },
      {
       "output_type": "stream",
       "stream": "stdout",
       "text": [
        "\n",
        "98.0\n",
        "50.0\n",
        "124.0\n",
        "50.0\n",
        "128.0\n",
        "116.0\n",
        "92.0"
       ]
      },
      {
       "output_type": "stream",
       "stream": "stdout",
       "text": [
        "\n",
        "124.0\n",
        "50.0\n",
        "50.0\n",
        "92.0\n",
        "124.0\n",
        "118.0\n",
        "90.0"
       ]
      },
      {
       "output_type": "stream",
       "stream": "stdout",
       "text": [
        "\n",
        "128.0\n",
        "92.0\n",
        "90.0\n",
        "50.0\n",
        "88.0\n",
        "88.0\n",
        "132.0"
       ]
      },
      {
       "output_type": "stream",
       "stream": "stdout",
       "text": [
        "\n",
        "128.0\n",
        "50.0\n",
        "180.0\n",
        "50.0\n",
        "93.0\n",
        "98.0"
       ]
      },
      {
       "output_type": "stream",
       "stream": "stdout",
       "text": [
        "\n",
        "50.0\n",
        "164.0\n",
        "82.0\n",
        "136.0\n",
        "50.0\n",
        "232.0"
       ]
      },
      {
       "output_type": "stream",
       "stream": "stdout",
       "text": [
        "\n",
        "128.0\n",
        "50.0\n",
        "50.0\n",
        "170.0\n",
        "50.0\n",
        "50.0"
       ]
      },
      {
       "output_type": "stream",
       "stream": "stdout",
       "text": [
        "\n",
        "112.0\n",
        "131.0\n",
        "130.0\n",
        "50.0\n",
        "50.0"
       ]
      },
      {
       "output_type": "stream",
       "stream": "stdout",
       "text": [
        "\n",
        "178.0\n",
        "50.0\n",
        "50.0\n",
        "124.0\n",
        "118.0\n",
        "94.0"
       ]
      },
      {
       "output_type": "stream",
       "stream": "stdout",
       "text": [
        "\n",
        "82.0\n",
        "90.0\n",
        "55.0\n",
        "76.0\n",
        "130.0\n",
        "66.0\n",
        "140.0"
       ]
      },
      {
       "output_type": "stream",
       "stream": "stdout",
       "text": [
        "\n",
        "142.0\n",
        "114.0\n",
        "105.0\n",
        "50.0\n",
        "88.0\n",
        "50.0\n",
        "117.0"
       ]
      },
      {
       "output_type": "stream",
       "stream": "stdout",
       "text": [
        "\n",
        "82.0\n",
        "64.0\n",
        "160.0\n",
        "113.0\n",
        "108.0\n",
        "113.0\n",
        "50.0"
       ]
      },
      {
       "output_type": "stream",
       "stream": "stdout",
       "text": [
        "\n",
        "118.0\n",
        "50.0\n",
        "100.0\n",
        "151.0\n",
        "50.0\n",
        "128.0\n",
        "66.0"
       ]
      },
      {
       "output_type": "stream",
       "stream": "stdout",
       "text": [
        "\n",
        "98.0\n",
        "71.0\n",
        "180.0\n",
        "63.0\n",
        "111.0\n",
        "68.0\n",
        "122.0"
       ]
      },
      {
       "output_type": "stream",
       "stream": "stdout",
       "text": [
        "\n",
        "124.0\n",
        "50.0\n",
        "60.0\n",
        "108.0\n",
        "88.0\n",
        "124.0\n",
        "90.0"
       ]
      },
      {
       "output_type": "stream",
       "stream": "stdout",
       "text": [
        "\n",
        "90.0\n",
        "118.0\n",
        "88.0\n",
        "100.0\n",
        "64.0\n",
        "115.0\n",
        "72.0"
       ]
      },
      {
       "output_type": "stream",
       "stream": "stdout",
       "text": [
        "\n",
        "169.0\n",
        "68.0\n",
        "68.0\n",
        "73.0\n",
        "147.0\n",
        "98.0\n",
        "50.0"
       ]
      },
      {
       "output_type": "stream",
       "stream": "stdout",
       "text": [
        "\n",
        "90.0\n",
        "134.0\n",
        "124.0\n",
        "70.0\n",
        "76.0\n",
        "154.0\n",
        "75.0"
       ]
      },
      {
       "output_type": "stream",
       "stream": "stdout",
       "text": [
        "\n",
        "86.0\n",
        "102.0\n",
        "130.0\n",
        "96.0\n",
        "50.0\n",
        "128.0\n",
        "50.0"
       ]
      },
      {
       "output_type": "stream",
       "stream": "stdout",
       "text": [
        "\n",
        "110.0\n",
        "73.0\n",
        "50.0\n",
        "137.0\n",
        "149.0\n",
        "74.0\n",
        "65.0"
       ]
      },
      {
       "output_type": "stream",
       "stream": "stdout",
       "text": [
        "\n",
        "113.0\n",
        "50.0\n",
        "111.0\n",
        "105.0\n",
        "50.0\n",
        "146.0"
       ]
      },
      {
       "output_type": "stream",
       "stream": "stdout",
       "text": [
        "\n",
        "100.0\n",
        "50.0\n",
        "111.0\n",
        "110.0\n",
        "70.0"
       ]
      },
      {
       "output_type": "stream",
       "stream": "stdout",
       "text": [
        "\n",
        "69.0\n",
        "86.0\n",
        "84.0\n",
        "132.0\n",
        "157.0"
       ]
      },
      {
       "output_type": "stream",
       "stream": "stdout",
       "text": [
        "\n",
        "90.0\n",
        "64.0\n",
        "106.0\n",
        "75.0\n",
        "68.0"
       ]
      },
      {
       "output_type": "stream",
       "stream": "stdout",
       "text": [
        "\n",
        "72.0\n",
        "82.0\n",
        "130.0\n",
        "94.0\n",
        "132.0\n",
        "138.0"
       ]
      },
      {
       "output_type": "stream",
       "stream": "stdout",
       "text": [
        "\n",
        "90.0\n",
        "71.0\n",
        "50.0\n",
        "140.0\n",
        "95.0\n",
        "90.0"
       ]
      },
      {
       "output_type": "stream",
       "stream": "stdout",
       "text": [
        "\n",
        "130.0\n",
        "101.0\n",
        "90.0\n",
        "50.0\n",
        "92.0"
       ]
      },
      {
       "output_type": "stream",
       "stream": "stdout",
       "text": [
        "\n",
        "50.0\n",
        "130.0\n",
        "80.0\n",
        "157.0\n",
        "128.0"
       ]
      },
      {
       "output_type": "stream",
       "stream": "stdout",
       "text": [
        "\n",
        "50.0\n",
        "92.0\n",
        "50.0\n",
        "106.0\n",
        "130.0"
       ]
      },
      {
       "output_type": "stream",
       "stream": "stdout",
       "text": [
        "\n",
        "72.0\n",
        "90.0\n",
        "134.0\n",
        "120.0\n",
        "50.0\n",
        "70.0"
       ]
      },
      {
       "output_type": "stream",
       "stream": "stdout",
       "text": [
        "\n",
        "61.0\n",
        "90.0\n",
        "164.0\n",
        "80.0\n",
        "75.0"
       ]
      },
      {
       "output_type": "stream",
       "stream": "stdout",
       "text": [
        "\n",
        "118.0\n",
        "92.0\n",
        "86.0\n",
        "97.0\n",
        "73.0"
       ]
      },
      {
       "output_type": "stream",
       "stream": "stdout",
       "text": [
        "\n",
        "134.0\n",
        "124.0\n",
        "50.0\n",
        "94.0\n",
        "110.0"
       ]
      },
      {
       "output_type": "stream",
       "stream": "stdout",
       "text": [
        "\n",
        "120.0\n",
        "92.0\n",
        "50.0\n",
        "50.0\n",
        "160.0"
       ]
      },
      {
       "output_type": "stream",
       "stream": "stdout",
       "text": [
        "\n",
        "102.0\n",
        "90.0\n",
        "94.0\n",
        "86.0\n",
        "92.0"
       ]
      },
      {
       "output_type": "stream",
       "stream": "stdout",
       "text": [
        "\n",
        "78.0\n",
        "50.0\n",
        "174.0\n",
        "76.0\n",
        "132.0\n",
        "112.0"
       ]
      },
      {
       "output_type": "stream",
       "stream": "stdout",
       "text": [
        "\n",
        "50.0\n",
        "50.0\n",
        "84.0\n",
        "94.0\n",
        "86.0"
       ]
      },
      {
       "output_type": "stream",
       "stream": "stdout",
       "text": [
        "\n",
        "102.0\n",
        "152.0\n",
        "71.0\n",
        "122.0\n",
        "76.0"
       ]
      },
      {
       "output_type": "stream",
       "stream": "stdout",
       "text": [
        "\n",
        "98.0\n",
        "100.0\n",
        "50.0\n",
        "88.0\n",
        "75.0"
       ]
      },
      {
       "output_type": "stream",
       "stream": "stdout",
       "text": [
        "\n",
        "128.0\n",
        "109.0\n",
        "68.0\n",
        "90.0\n",
        "105.0\n",
        "66.0"
       ]
      },
      {
       "output_type": "stream",
       "stream": "stdout",
       "text": [
        "\n",
        "100.0\n",
        "100.0\n",
        "122.0\n",
        "61.0\n",
        "80.0\n",
        "69.0"
       ]
      },
      {
       "output_type": "stream",
       "stream": "stdout",
       "text": [
        "\n",
        "146.0\n",
        "80.0\n",
        "160.0\n",
        "50.0\n",
        "152.0"
       ]
      },
      {
       "output_type": "stream",
       "stream": "stdout",
       "text": [
        "\n",
        "50.0\n",
        "70.0\n",
        "73.0\n",
        "112.0\n",
        "147.0\n"
       ]
      },
      {
       "output_type": "stream",
       "stream": "stdout",
       "text": [
        "106.0\n",
        "96.0\n",
        "50.0\n",
        "88.0\n",
        "61.0\n",
        "69.0\n",
        "92.0"
       ]
      },
      {
       "output_type": "stream",
       "stream": "stdout",
       "text": [
        "\n",
        "103.0\n",
        "144.0\n",
        "94.0\n",
        "98.0\n",
        "134.0"
       ]
      },
      {
       "output_type": "stream",
       "stream": "stdout",
       "text": [
        "\n",
        "50.0\n",
        "121.0\n",
        "92.0\n",
        "94.0\n",
        "86.0"
       ]
      },
      {
       "output_type": "stream",
       "stream": "stdout",
       "text": [
        "\n",
        "50.0\n",
        "118.0\n",
        "90.0\n",
        "50.0\n",
        "88.0"
       ]
      },
      {
       "output_type": "stream",
       "stream": "stdout",
       "text": [
        "\n",
        "97.0\n",
        "162.0\n",
        "117.0\n",
        "50.0\n",
        "78.0"
       ]
      },
      {
       "output_type": "stream",
       "stream": "stdout",
       "text": [
        "\n",
        "76.0\n",
        "73.0\n",
        "102.0\n",
        "107.0\n",
        "99.0\n",
        "80.0"
       ]
      },
      {
       "output_type": "stream",
       "stream": "stdout",
       "text": [
        "\n",
        "94.0\n",
        "100.0\n",
        "50.0\n",
        "130.0\n",
        "62.0\n",
        "50.0"
       ]
      },
      {
       "output_type": "stream",
       "stream": "stdout",
       "text": [
        "\n",
        "172.0\n",
        "72.0\n",
        "105.0\n",
        "96.0\n",
        "74.0"
       ]
      },
      {
       "output_type": "stream",
       "stream": "stdout",
       "text": [
        "\n",
        "72.0\n",
        "72.0\n",
        "158.0\n",
        "157.0\n",
        "70.0"
       ]
      },
      {
       "output_type": "stream",
       "stream": "stdout",
       "text": [
        "\n",
        "50.0\n",
        "60.0\n",
        "106.0\n",
        "50.0\n",
        "174.0"
       ]
      },
      {
       "output_type": "stream",
       "stream": "stdout",
       "text": [
        "\n",
        "111.0\n",
        "132.0\n",
        "50.0\n",
        "88.0\n",
        "84.0\n",
        "94.0"
       ]
      },
      {
       "output_type": "stream",
       "stream": "stdout",
       "text": [
        "\n",
        "90.0\n",
        "86.0\n",
        "50.0\n",
        "195.0\n",
        "108.0\n",
        "90.0"
       ]
      },
      {
       "output_type": "stream",
       "stream": "stdout",
       "text": [
        "\n",
        "56.0\n",
        "88.0\n",
        "90.0\n",
        "120.0\n",
        "50.0\n",
        "138.0"
       ]
      },
      {
       "output_type": "stream",
       "stream": "stdout",
       "text": [
        "\n",
        "117.0\n",
        "124.0\n",
        "64.0\n",
        "66.0\n",
        "50.0"
       ]
      },
      {
       "output_type": "stream",
       "stream": "stdout",
       "text": [
        "\n",
        "66.0\n",
        "97.0\n",
        "106.0\n",
        "132.0\n",
        "178.0\n",
        "64.0"
       ]
      },
      {
       "output_type": "stream",
       "stream": "stdout",
       "text": [
        "\n",
        "69.0\n",
        "61.0\n",
        "69.0\n",
        "80.0\n",
        "68.0\n",
        "168.0"
       ]
      },
      {
       "output_type": "stream",
       "stream": "stdout",
       "text": [
        "\n",
        "63.0\n",
        "105.0\n",
        "96.0\n",
        "72.0\n",
        "70.0\n",
        "72.0"
       ]
      },
      {
       "output_type": "stream",
       "stream": "stdout",
       "text": [
        "\n",
        "153.0\n",
        "115.0\n",
        "107.0\n",
        "50.0\n",
        "120.0\n",
        "80.0"
       ]
      },
      {
       "output_type": "stream",
       "stream": "stdout",
       "text": [
        "\n",
        "94.0\n",
        "66.0\n",
        "50.0\n",
        "90.0\n",
        "180.0"
       ]
      },
      {
       "output_type": "stream",
       "stream": "stdout",
       "text": [
        "\n",
        "100.0\n",
        "92.0\n",
        "50.0\n",
        "160.0\n",
        "68.0"
       ]
      },
      {
       "output_type": "stream",
       "stream": "stdout",
       "text": [
        "\n",
        "50.0\n",
        "80.0\n",
        "144.0\n",
        "100.0\n",
        "76.0\n",
        "71.0"
       ]
      },
      {
       "output_type": "stream",
       "stream": "stdout",
       "text": [
        "\n",
        "109.0\n",
        "100.0\n",
        "126.0\n",
        "50.0\n",
        "152.0\n",
        "88.0"
       ]
      },
      {
       "output_type": "stream",
       "stream": "stdout",
       "text": [
        "\n",
        "66.0\n",
        "86.0\n",
        "86.0\n",
        "88.0\n",
        "50.0\n",
        "108.0"
       ]
      },
      {
       "output_type": "stream",
       "stream": "stdout",
       "text": [
        "\n",
        "172.0\n",
        "92.0\n",
        "132.0\n",
        "68.0\n",
        "50.0\n",
        "94.0"
       ]
      },
      {
       "output_type": "stream",
       "stream": "stdout",
       "text": [
        "\n",
        "104.0\n",
        "50.0\n",
        "110.0\n",
        "128.0\n",
        "122.0\n",
        "50.0"
       ]
      },
      {
       "output_type": "stream",
       "stream": "stdout",
       "text": [
        "\n",
        "98.0\n",
        "82.0\n",
        "88.0\n",
        "50.0\n",
        "136.0\n",
        "110.0"
       ]
      },
      {
       "output_type": "stream",
       "stream": "stdout",
       "text": [
        "\n",
        "166.0\n",
        "56.0\n",
        "50.0\n",
        "90.0\n",
        "50.0\n",
        "120.0\n",
        "71.0"
       ]
      },
      {
       "output_type": "stream",
       "stream": "stdout",
       "text": [
        "\n",
        "202.0\n",
        "111.0\n",
        "50.0\n",
        "84.0\n",
        "50.0\n",
        "154.0"
       ]
      },
      {
       "output_type": "stream",
       "stream": "stdout",
       "text": [
        "\n",
        "50.0\n",
        "98.0\n",
        "150.0\n",
        "112.0\n",
        "96.0\n",
        "50.0"
       ]
      },
      {
       "output_type": "stream",
       "stream": "stdout",
       "text": [
        "\n",
        "82.0\n",
        "69.0\n",
        "142.0\n",
        "82.0\n",
        "77.0"
       ]
      },
      {
       "output_type": "stream",
       "stream": "stdout",
       "text": [
        "\n",
        "72.0\n",
        "239.0\n",
        "67.0\n",
        "50.0\n",
        "98.0\n",
        "68.0"
       ]
      },
      {
       "output_type": "stream",
       "stream": "stdout",
       "text": [
        "\n",
        "84.0\n",
        "94.0\n",
        "138.0\n",
        "114.0\n",
        "70.0\n",
        "164.0"
       ]
      },
      {
       "output_type": "stream",
       "stream": "stdout",
       "text": [
        "\n",
        "58.0\n",
        "66.0\n",
        "60.0\n",
        "118.0\n",
        "94.0\n",
        "132.0"
       ]
      },
      {
       "output_type": "stream",
       "stream": "stdout",
       "text": [
        "\n",
        "102.0\n",
        "115.0\n",
        "88.0\n",
        "94.0\n",
        "50.0\n",
        "138.0"
       ]
      },
      {
       "output_type": "stream",
       "stream": "stdout",
       "text": [
        "\n",
        "50.0\n",
        "160.0\n",
        "118.0\n",
        "50.0\n",
        "78.0\n",
        "101.0"
       ]
      },
      {
       "output_type": "stream",
       "stream": "stdout",
       "text": [
        "\n",
        "84.0\n",
        "50.0\n",
        "136.0\n",
        "168.0\n",
        "60.0\n",
        "50.0"
       ]
      },
      {
       "output_type": "stream",
       "stream": "stdout",
       "text": [
        "\n",
        "90.0\n",
        "136.0\n",
        "58.0\n",
        "107.0\n",
        "88.0\n",
        "120.0\n",
        "50.0"
       ]
      },
      {
       "output_type": "stream",
       "stream": "stdout",
       "text": [
        "\n",
        "110.0\n",
        "82.0\n",
        "151.0\n",
        "50.0\n",
        "50.0\n",
        "99.0"
       ]
      },
      {
       "output_type": "stream",
       "stream": "stdout",
       "text": [
        "\n",
        "90.0\n",
        "122.0\n",
        "62.0\n",
        "135.0\n",
        "69.0\n",
        "86.0"
       ]
      },
      {
       "output_type": "stream",
       "stream": "stdout",
       "text": [
        "\n",
        "82.0\n",
        "108.0\n",
        "90.0\n",
        "134.0\n",
        "90.0\n",
        "103.0"
       ]
      },
      {
       "output_type": "stream",
       "stream": "stdout",
       "text": [
        "\n",
        "69.0\n",
        "50.0\n",
        "107.0\n",
        "122.0\n",
        "50.0\n",
        "111.0\n",
        "184.0"
       ]
      },
      {
       "output_type": "stream",
       "stream": "stdout",
       "text": [
        "\n",
        "68.0\n",
        "90.0\n",
        "71.0\n",
        "68.0\n",
        "128.0\n",
        "50.0\n",
        "96.0"
       ]
      },
      {
       "output_type": "stream",
       "stream": "stdout",
       "text": [
        "\n",
        "200.0\n",
        "116.0\n",
        "50.0\n",
        "105.0\n",
        "50.0\n",
        "50.0\n",
        "82.0"
       ]
      },
      {
       "output_type": "stream",
       "stream": "stdout",
       "text": [
        "\n",
        "50.0\n",
        "218.0\n",
        "94.0\n",
        "66.0\n",
        "158.0\n",
        "50.0\n",
        "50.0"
       ]
      },
      {
       "output_type": "stream",
       "stream": "stdout",
       "text": [
        "\n",
        "50.0\n",
        "80.0\n",
        "224.0\n",
        "107.0\n",
        "90.0\n",
        "50.0"
       ]
      },
      {
       "output_type": "stream",
       "stream": "stdout",
       "text": [
        "\n",
        "122.0\n",
        "50.0\n",
        "65.0\n",
        "107.0\n",
        "50.0\n",
        "145.0\n",
        "118.0"
       ]
      },
      {
       "output_type": "stream",
       "stream": "stdout",
       "text": [
        "\n",
        "84.0\n",
        "94.0\n",
        "50.0\n",
        "86.0\n",
        "104.0\n",
        "128.0\n",
        "116.0"
       ]
      },
      {
       "output_type": "stream",
       "stream": "stdout",
       "text": [
        "\n",
        "96.0\n",
        "75.0\n",
        "109.0\n",
        "92.0\n",
        "80.0\n",
        "88.0"
       ]
      },
      {
       "output_type": "stream",
       "stream": "stdout",
       "text": [
        "\n",
        "98.0\n",
        "147.0\n",
        "68.0\n",
        "70.0\n",
        "92.0\n",
        "114.0"
       ]
      },
      {
       "output_type": "stream",
       "stream": "stdout",
       "text": [
        "\n",
        "90.0\n",
        "92.0\n",
        "90.0\n",
        "69.0\n",
        "109.0\n",
        "128.0"
       ]
      },
      {
       "output_type": "stream",
       "stream": "stdout",
       "text": [
        "\n",
        "92.0\n",
        "84.0\n",
        "67.0\n",
        "116.0\n",
        "88.0\n",
        "68.0"
       ]
      },
      {
       "output_type": "stream",
       "stream": "stdout",
       "text": [
        "\n",
        "71.0\n",
        "50.0\n",
        "139.0\n",
        "150.0\n",
        "79.0\n",
        "50.0"
       ]
      },
      {
       "output_type": "stream",
       "stream": "stdout",
       "text": [
        "\n",
        "128.0\n",
        "62.0\n",
        "88.0\n",
        "50.0\n",
        "144.0\n",
        "138.0"
       ]
      },
      {
       "output_type": "stream",
       "stream": "stdout",
       "text": [
        "\n",
        "94.0\n",
        "88.0\n",
        "138.0\n",
        "50.0\n",
        "64.0\n",
        "134.0"
       ]
      },
      {
       "output_type": "stream",
       "stream": "stdout",
       "text": [
        "\n",
        "90.0\n",
        "84.0\n",
        "59.0\n",
        "186.0\n",
        "66.0\n",
        "90.0"
       ]
      },
      {
       "output_type": "stream",
       "stream": "stdout",
       "text": [
        "\n",
        "66.0\n",
        "86.0\n",
        "50.0\n",
        "142.0\n",
        "102.0\n",
        "70.0"
       ]
      },
      {
       "output_type": "stream",
       "stream": "stdout",
       "text": [
        "\n",
        "119.0\n",
        "82.0\n",
        "50.0\n",
        "160.0\n",
        "58.0\n",
        "50.0"
       ]
      },
      {
       "output_type": "stream",
       "stream": "stdout",
       "text": [
        "\n",
        "108.0\n",
        "103.0\n",
        "57.0\n",
        "97.0\n",
        "108.0\n",
        "50.0"
       ]
      },
      {
       "output_type": "stream",
       "stream": "stdout",
       "text": [
        "\n",
        "114.0\n",
        "94.0\n",
        "126.0\n",
        "96.0\n",
        "155.0\n",
        "63.0"
       ]
      },
      {
       "output_type": "stream",
       "stream": "stdout",
       "text": [
        "\n",
        "69.0\n",
        "69.0\n",
        "50.0\n",
        "149.0\n",
        "94.0\n",
        "161.0"
       ]
      },
      {
       "output_type": "stream",
       "stream": "stdout",
       "text": [
        "\n",
        "50.0\n",
        "65.0\n",
        "151.0\n",
        "50.0\n",
        "76.0\n",
        "112.0"
       ]
      },
      {
       "output_type": "stream",
       "stream": "stdout",
       "text": [
        "\n",
        "146.0\n",
        "109.0\n",
        "68.0\n",
        "136.0\n",
        "112.0\n",
        "50.0"
       ]
      },
      {
       "output_type": "stream",
       "stream": "stdout",
       "text": [
        "\n",
        "50.0\n",
        "62.0\n",
        "61.0\n",
        "179.0\n",
        "120.0\n",
        "63.0\n",
        "73.0"
       ]
      },
      {
       "output_type": "stream",
       "stream": "stdout",
       "text": [
        "\n",
        "136.0\n",
        "77.0\n",
        "92.0\n",
        "78.0\n",
        "109.0\n",
        "153.0\n",
        "78.0"
       ]
      },
      {
       "output_type": "stream",
       "stream": "stdout",
       "text": [
        "\n",
        "76.0\n",
        "72.0\n",
        "143.0\n",
        "50.0\n",
        "84.0\n",
        "106.0\n",
        "69.0"
       ]
      },
      {
       "output_type": "stream",
       "stream": "stdout",
       "text": [
        "\n",
        "158.0\n",
        "94.0\n",
        "50.0\n",
        "92.0\n",
        "92.0\n",
        "102.0"
       ]
      },
      {
       "output_type": "stream",
       "stream": "stdout",
       "text": [
        "\n",
        "82.0\n",
        "109.0\n",
        "132.0\n",
        "86.0\n",
        "68.0\n",
        "50.0"
       ]
      },
      {
       "output_type": "stream",
       "stream": "stdout",
       "text": [
        "\n",
        "150.0\n",
        "69.0\n",
        "110.0\n",
        "108.0\n",
        "116.0\n",
        "112.0"
       ]
      },
      {
       "output_type": "stream",
       "stream": "stdout",
       "text": [
        "\n",
        "80.0\n",
        "94.0\n",
        "50.0\n",
        "70.0\n",
        "86.0\n",
        "73.0"
       ]
      },
      {
       "output_type": "stream",
       "stream": "stdout",
       "text": [
        "\n",
        "164.0\n",
        "124.0\n",
        "96.0\n",
        "102.0\n",
        "50.0\n",
        "62.0"
       ]
      },
      {
       "output_type": "stream",
       "stream": "stdout",
       "text": [
        "\n",
        "120.0\n",
        "63.0\n",
        "124.0\n",
        "50.0\n",
        "141.0\n",
        "68.0"
       ]
      },
      {
       "output_type": "stream",
       "stream": "stdout",
       "text": [
        "\n",
        "132.0\n",
        "107.0\n",
        "84.0\n",
        "68.0\n",
        "50.0\n",
        "134.0"
       ]
      },
      {
       "output_type": "stream",
       "stream": "stdout",
       "text": [
        "\n",
        "102.0\n",
        "61.0\n",
        "75.0\n",
        "140.0\n",
        "88.0"
       ]
      },
      {
       "output_type": "stream",
       "stream": "stdout",
       "text": [
        "\n",
        "64.0\n",
        "161.0\n",
        "84.0\n",
        "50.0\n",
        "50.0\n",
        "104.0"
       ]
      },
      {
       "output_type": "stream",
       "stream": "stdout",
       "text": [
        "\n",
        "135.0\n",
        "70.0\n",
        "132.0\n",
        "132.0\n",
        "70.0"
       ]
      },
      {
       "output_type": "stream",
       "stream": "stdout",
       "text": [
        "\n",
        "69.0\n",
        "63.0\n",
        "112.0\n",
        "50.0\n",
        "149.0"
       ]
      },
      {
       "output_type": "stream",
       "stream": "stdout",
       "text": [
        "\n",
        "50.0\n",
        "150.0\n",
        "100.0\n",
        "107.0\n",
        "68.0"
       ]
      },
      {
       "output_type": "stream",
       "stream": "stdout",
       "text": [
        "\n",
        "50.0\n",
        "106.0\n",
        "120.0\n",
        "69.0\n",
        "94.0"
       ]
      },
      {
       "output_type": "stream",
       "stream": "stdout",
       "text": [
        "\n",
        "111.0\n",
        "90.0\n",
        "114.0\n",
        "94.0\n"
       ]
      }
     ],
     "prompt_number": 63
    },
    {
     "cell_type": "code",
     "collapsed": false,
     "input": [
      "plt.figure()\n",
      "plt.imshow(dW2, interpolation='nearest', aspect='auto')\n",
      "plt.colorbar()\n",
      "plt.tight_layout()\n",
      "plt.show()"
     ],
     "language": "python",
     "metadata": {},
     "outputs": [],
     "prompt_number": 64
    },
    {
     "cell_type": "code",
     "collapsed": false,
     "input": [
      "plt.imshow(forward(X, W1))\n",
      "plt.show()"
     ],
     "language": "python",
     "metadata": {},
     "outputs": [],
     "prompt_number": 152
    },
    {
     "cell_type": "code",
     "collapsed": false,
     "input": [
      "plotm(forward(X, W1),'aft1')"
     ],
     "language": "python",
     "metadata": {},
     "outputs": [],
     "prompt_number": 47
    },
    {
     "cell_type": "code",
     "collapsed": false,
     "input": [
      "plotm(forward_all(X[:,0:100], W1, W2) - y[:,0:100], 'Err')"
     ],
     "language": "python",
     "metadata": {},
     "outputs": [],
     "prompt_number": 48
    },
    {
     "cell_type": "code",
     "collapsed": false,
     "input": [
      "phat = forward_all(X[:,_s], W1, W2)\n",
      "_Err = y[:,_s] - phat\n",
      "_,_ = backward_(_Err, X[:,_s], W1, W2, True)"
     ],
     "language": "python",
     "metadata": {},
     "outputs": [],
     "prompt_number": 50
    },
    {
     "cell_type": "code",
     "collapsed": false,
     "input": [],
     "language": "python",
     "metadata": {},
     "outputs": [
      {
       "metadata": {},
       "output_type": "pyout",
       "prompt_number": 59,
       "text": [
        "array([[ 1.,  1.,  0.,  1.,  1.,  1.,  1.,  1.,  0.,  1.,  1.,  1.,  1.,\n",
        "         0.,  0.,  1.,  1.,  1.,  1.,  0.,  0.,  0.,  1.,  0.,  0.,  0.,\n",
        "         0.,  1.,  1.,  0.,  1.],\n",
        "       [ 1.,  1.,  0.,  1.,  1.,  1.,  1.,  1.,  0.,  1.,  1.,  0.,  1.,\n",
        "         1.,  0.,  1.,  1.,  1.,  1.,  0.,  0.,  0.,  1.,  0.,  0.,  1.,\n",
        "         0.,  1.,  1.,  0.,  1.],\n",
        "       [ 1.,  1.,  0.,  0.,  1.,  1.,  1.,  1.,  0.,  1.,  1.,  0.,  1.,\n",
        "         0.,  0.,  1.,  1.,  1.,  1.,  0.,  0.,  0.,  1.,  0.,  0.,  1.,\n",
        "         0.,  1.,  1.,  0.,  1.],\n",
        "       [ 1.,  1.,  0.,  0.,  0.,  1.,  1.,  1.,  0.,  0.,  1.,  0.,  1.,\n",
        "         0.,  0.,  0.,  1.,  1.,  1.,  0.,  0.,  0.,  1.,  0.,  0.,  0.,\n",
        "         0.,  1.,  1.,  0.,  1.],\n",
        "       [ 1.,  1.,  0.,  1.,  1.,  1.,  1.,  1.,  0.,  0.,  1.,  1.,  1.,\n",
        "         1.,  0.,  1.,  1.,  1.,  1.,  0.,  0.,  0.,  1.,  0.,  0.,  0.,\n",
        "         0.,  1.,  1.,  0.,  1.],\n",
        "       [ 1.,  1.,  0., -1.,  1.,  1.,  1.,  1.,  0.,  1.,  1., -1.,  1.,\n",
        "        -1.,  1., -1.,  1.,  1.,  1.,  0.,  0.,  0.,  1.,  0.,  0.,  1.,\n",
        "        -1.,  1.,  1.,  0.,  1.],\n",
        "       [ 1.,  1.,  0.,  0.,  0.,  1.,  1.,  1.,  0.,  0.,  1.,  0.,  1.,\n",
        "         0.,  0.,  1.,  1.,  1.,  1.,  0.,  0.,  0.,  1.,  0.,  0.,  0.,\n",
        "         0.,  1.,  1.,  0.,  1.],\n",
        "       [ 1.,  1.,  0.,  1.,  0.,  1.,  1.,  1.,  0.,  0.,  1.,  1.,  1.,\n",
        "         1.,  0.,  1.,  1.,  1.,  1.,  0.,  0.,  0.,  1.,  0.,  0.,  1.,\n",
        "         1.,  1.,  1.,  0.,  1.],\n",
        "       [ 1.,  1.,  0.,  0.,  0.,  0.,  1.,  1.,  0.,  0.,  1.,  0.,  1.,\n",
        "         0.,  0.,  0.,  1.,  1.,  1.,  0.,  0.,  0.,  1.,  0.,  0.,  0.,\n",
        "         0.,  1.,  1.,  0.,  1.],\n",
        "       [ 1.,  1.,  0.,  0.,  0.,  0.,  1.,  1.,  0.,  0.,  1.,  0.,  1.,\n",
        "         0.,  0.,  1.,  1.,  1.,  1.,  0.,  0.,  0.,  1.,  0.,  0.,  0.,\n",
        "         0.,  1.,  1.,  0.,  1.]])"
       ]
      }
     ],
     "prompt_number": 59
    },
    {
     "cell_type": "code",
     "collapsed": false,
     "input": [],
     "language": "python",
     "metadata": {},
     "outputs": []
    }
   ],
   "metadata": {}
  }
 ]
}