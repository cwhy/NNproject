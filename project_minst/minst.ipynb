{
 "metadata": {
  "name": "",
  "signature": "sha256:82a8d9f4d67b2356c8c05c16f8b060c7ce320e660ec71fb26263f74963038475"
 },
 "nbformat": 3,
 "nbformat_minor": 0,
 "worksheets": [
  {
   "cells": [
    {
     "cell_type": "code",
     "collapsed": false,
     "input": [
      "%pylab inline\n",
      "import pandas as pd\n",
      "import numpy as np\n",
      "import numpy.random as rnd\n",
      "\n",
      "import matplotlib.pyplot as plt\n",
      "# rnd.seed(120)\n",
      "\n",
      "train_raw = pd.read_csv('./data/train.csv')\n",
      "test_raw = pd.read_csv('./data/test.csv')\n",
      "\n",
      "train_all = train_raw.values"
     ],
     "language": "python",
     "metadata": {},
     "outputs": [
      {
       "output_type": "stream",
       "stream": "stdout",
       "text": [
        "Populating the interactive namespace from numpy and matplotlib\n"
       ]
      }
     ],
     "prompt_number": 3
    },
    {
     "cell_type": "code",
     "collapsed": false,
     "input": [
      "def dat_get(dataset):\n",
      "    labels = dataset[:,0]\n",
      "    features = dataset[:,1:]\n",
      "    return features, labels\n",
      "\n",
      "\n",
      "def compare(lb1, lb2):\n",
      "    acc = np.sum(lb1 == lb2)\n",
      "    return acc\n",
      "\n",
      "\n",
      "def logi(x):\n",
      "    return 1 / (1 + np.exp(-x))\n",
      "\n",
      "\n",
      "def add_offset(X):\n",
      "    x0_ = np.ones((1, X.shape[1]))\n",
      "    return np.vstack((x0_, X))\n",
      "    \n",
      "\n",
      "def forward(the_X, W):\n",
      "    a = W.dot(add_offset(the_X))\n",
      "    return logi(a)\n",
      "\n",
      "\n",
      "def forward_all(X, W1, W2):\n",
      "    X1 = forward(X, W1)\n",
      "    X2 = forward(X1, W2)\n",
      "    return X2\n",
      "\n",
      "def plotm(mat,matname):\n",
      "    plt.figure()\n",
      "    plt.imshow(mat, interpolation='nearest', aspect='auto')\n",
      "    plt.colorbar()\n",
      "    plt.title(matname)\n",
      "    plt.tight_layout()\n",
      "    plt.show()\n",
      "    \n",
      "\n",
      "def backward_(Err, X, W1, W2, verbose=False):\n",
      "    X1 = forward(X, W1)\n",
      "    Err2 = Err\n",
      "    if verbose:\n",
      "        plotm(W1,'W1')\n",
      "        plotm(X, 'X')\n",
      "        plotm(X1, 'X1')\n",
      "        plotm(Err2.T, 'Err2.T')\n",
      "    \n",
      "    dW2 = add_offset(X1).dot(Err2.T)\n",
      "    Err1 = W2.T[1:,:].dot(Err2) * (X1 * (1 - X1))\n",
      "    X = add_offset(X)\n",
      "    dW1 = Err1.dot(X.T)\n",
      "    return dW2.T, dW1"
     ],
     "language": "python",
     "metadata": {},
     "outputs": [],
     "prompt_number": 4
    },
    {
     "cell_type": "code",
     "collapsed": false,
     "input": [
      "N_groups = 10\n",
      "dimX = 784\n",
      "N_sample = 10000\n",
      "to_train = train_all[0:N_sample,:]\n",
      "to_validate = train_all[1001:2000,:]\n",
      "\n",
      "tr_ft, tr_lb = dat_get(to_train)\n",
      "va_ft, va_lb = dat_get(to_validate)\n",
      "X = tr_ft.T\n",
      "y_lb = tr_lb\n",
      "y = np.zeros((N_sample, N_groups))\n",
      "y[(range(len(y_lb)), y_lb)] = 1\n",
      "y = y.T\n",
      "\n",
      "Nu_2 = 30\n",
      "max_iter = 2000\n",
      "\n",
      "W2 = rnd.random((N_groups, Nu_2 + 1))-0.5\n",
      "alpha = 0.01*np.ones(W2.shape)\n",
      "W1 = 0.1*rnd.random((Nu_2, dimX + 1))-0.05\n",
      "Alpha = 0.01*np.ones(W1.shape)\n",
      "\n",
      "dW2 = np.ones(W2.shape)\n",
      "dW2_ = dW2\n",
      "dW1 = np.ones(W1.shape)\n",
      "dW1_ = dW1\n",
      "\n",
      "iterN = 0\n",
      "Errs = []\n",
      "_err = 1\n",
      "while _err >= 0.0001:\n",
      "    _s = np.random.choice(N_sample, 50)\n",
      "    phat = forward_all(X[:,_s], W1, W2)\n",
      "    _Err = y[:,_s] - phat\n",
      "    \n",
      "    dW2, dW1 = backward_(_Err, X[:,_s], W1, W2)\n",
      "    _err = sum(sum(abs(_Err)))\n",
      "    Errs.append(_err)\n",
      "    \n",
      "    alpha *= 0.9 + (np.sign(dW2) == np.sign(dW2_))*0.2\n",
      "    Alpha *= 0.9 + (np.sign(dW1) == np.sign(dW1_))*0.2\n",
      "\n",
      "    dW2_ = dW2\n",
      "    dW1_ = dW1\n",
      "    \n",
      "\n",
      "    W2 += alpha * dW2\n",
      "    W1 += Alpha * dW1\n",
      "    iterN += 1\n",
      "    # print _err\n",
      "    if iterN >= max_iter:\n",
      "        break\n",
      "\n",
      "plt.plot(Errs)\n",
      "plt.show()"
     ],
     "language": "python",
     "metadata": {},
     "outputs": [
      {
       "metadata": {},
       "output_type": "display_data",
       "png": "[encoded data removed]",
       "text": [
        "<matplotlib.figure.Figure at 0x7f1b8e47db90>"
       ]
      }
     ],
     "prompt_number": 6
    },
    {
     "cell_type": "code",
     "collapsed": false,
     "input": [
      "plt.figure()\n",
      "plt.imshow(_Err, interpolation='nearest', aspect='auto')\n",
      "plt.colorbar()\n",
      "plt.tight_layout()\n",
      "plt.show()"
     ],
     "language": "python",
     "metadata": {},
     "outputs": [
      {
       "ename": "NameError",
       "evalue": "name '_Err' is not defined",
       "output_type": "pyerr",
       "traceback": [
        "\u001b[0;31m---------------------------------------------------------------------------\u001b[0m\n\u001b[0;31mNameError\u001b[0m                                 Traceback (most recent call last)",
        "\u001b[0;32m<ipython-input-5-f6ca47c84044>\u001b[0m in \u001b[0;36m<module>\u001b[0;34m()\u001b[0m\n\u001b[1;32m      1\u001b[0m \u001b[0mplt\u001b[0m\u001b[0;34m.\u001b[0m\u001b[0mfigure\u001b[0m\u001b[0;34m(\u001b[0m\u001b[0;34m)\u001b[0m\u001b[0;34m\u001b[0m\u001b[0m\n\u001b[0;32m----> 2\u001b[0;31m \u001b[0mplt\u001b[0m\u001b[0;34m.\u001b[0m\u001b[0mimshow\u001b[0m\u001b[0;34m(\u001b[0m\u001b[0m_Err\u001b[0m\u001b[0;34m,\u001b[0m \u001b[0minterpolation\u001b[0m\u001b[0;34m=\u001b[0m\u001b[0;34m'nearest'\u001b[0m\u001b[0;34m,\u001b[0m \u001b[0maspect\u001b[0m\u001b[0;34m=\u001b[0m\u001b[0;34m'auto'\u001b[0m\u001b[0;34m)\u001b[0m\u001b[0;34m\u001b[0m\u001b[0m\n\u001b[0m\u001b[1;32m      3\u001b[0m \u001b[0mplt\u001b[0m\u001b[0;34m.\u001b[0m\u001b[0mcolorbar\u001b[0m\u001b[0;34m(\u001b[0m\u001b[0;34m)\u001b[0m\u001b[0;34m\u001b[0m\u001b[0m\n\u001b[1;32m      4\u001b[0m \u001b[0mplt\u001b[0m\u001b[0;34m.\u001b[0m\u001b[0mtight_layout\u001b[0m\u001b[0;34m(\u001b[0m\u001b[0;34m)\u001b[0m\u001b[0;34m\u001b[0m\u001b[0m\n\u001b[1;32m      5\u001b[0m \u001b[0mplt\u001b[0m\u001b[0;34m.\u001b[0m\u001b[0mshow\u001b[0m\u001b[0;34m(\u001b[0m\u001b[0;34m)\u001b[0m\u001b[0;34m\u001b[0m\u001b[0m\n",
        "\u001b[0;31mNameError\u001b[0m: name '_Err' is not defined"
       ]
      },
      {
       "metadata": {},
       "output_type": "display_data",
       "text": [
        "<matplotlib.figure.Figure at 0x7f1b8ceec750>"
       ]
      }
     ],
     "prompt_number": 5
    },
    {
     "cell_type": "code",
     "collapsed": false,
     "input": [
      "plt.imshow(forward(X, W1))\n",
      "plt.show()"
     ],
     "language": "python",
     "metadata": {},
     "outputs": [],
     "prompt_number": 152
    },
    {
     "cell_type": "code",
     "collapsed": false,
     "input": [
      "plotm(forward(X, W1),'aft1')"
     ],
     "language": "python",
     "metadata": {},
     "outputs": [],
     "prompt_number": 47
    },
    {
     "cell_type": "code",
     "collapsed": false,
     "input": [
      "plotm(forward_all(X[:,0:100], W1, W2) - y[:,0:100], 'Err')"
     ],
     "language": "python",
     "metadata": {},
     "outputs": [],
     "prompt_number": 48
    },
    {
     "cell_type": "code",
     "collapsed": false,
     "input": [
      "phat = forward_all(X[:,_s], W1, W2)\n",
      "_Err = y[:,_s] - phat\n",
      "_,_ = backward_(_Err, X[:,_s], W1, W2, True)"
     ],
     "language": "python",
     "metadata": {},
     "outputs": [],
     "prompt_number": 50
    },
    {
     "cell_type": "code",
     "collapsed": false,
     "input": [],
     "language": "python",
     "metadata": {},
     "outputs": [
      {
       "metadata": {},
       "output_type": "pyout",
       "prompt_number": 59,
       "text": [
        "array([[ 1.,  1.,  0.,  1.,  1.,  1.,  1.,  1.,  0.,  1.,  1.,  1.,  1.,\n",
        "         0.,  0.,  1.,  1.,  1.,  1.,  0.,  0.,  0.,  1.,  0.,  0.,  0.,\n",
        "         0.,  1.,  1.,  0.,  1.],\n",
        "       [ 1.,  1.,  0.,  1.,  1.,  1.,  1.,  1.,  0.,  1.,  1.,  0.,  1.,\n",
        "         1.,  0.,  1.,  1.,  1.,  1.,  0.,  0.,  0.,  1.,  0.,  0.,  1.,\n",
        "         0.,  1.,  1.,  0.,  1.],\n",
        "       [ 1.,  1.,  0.,  0.,  1.,  1.,  1.,  1.,  0.,  1.,  1.,  0.,  1.,\n",
        "         0.,  0.,  1.,  1.,  1.,  1.,  0.,  0.,  0.,  1.,  0.,  0.,  1.,\n",
        "         0.,  1.,  1.,  0.,  1.],\n",
        "       [ 1.,  1.,  0.,  0.,  0.,  1.,  1.,  1.,  0.,  0.,  1.,  0.,  1.,\n",
        "         0.,  0.,  0.,  1.,  1.,  1.,  0.,  0.,  0.,  1.,  0.,  0.,  0.,\n",
        "         0.,  1.,  1.,  0.,  1.],\n",
        "       [ 1.,  1.,  0.,  1.,  1.,  1.,  1.,  1.,  0.,  0.,  1.,  1.,  1.,\n",
        "         1.,  0.,  1.,  1.,  1.,  1.,  0.,  0.,  0.,  1.,  0.,  0.,  0.,\n",
        "         0.,  1.,  1.,  0.,  1.],\n",
        "       [ 1.,  1.,  0., -1.,  1.,  1.,  1.,  1.,  0.,  1.,  1., -1.,  1.,\n",
        "        -1.,  1., -1.,  1.,  1.,  1.,  0.,  0.,  0.,  1.,  0.,  0.,  1.,\n",
        "        -1.,  1.,  1.,  0.,  1.],\n",
        "       [ 1.,  1.,  0.,  0.,  0.,  1.,  1.,  1.,  0.,  0.,  1.,  0.,  1.,\n",
        "         0.,  0.,  1.,  1.,  1.,  1.,  0.,  0.,  0.,  1.,  0.,  0.,  0.,\n",
        "         0.,  1.,  1.,  0.,  1.],\n",
        "       [ 1.,  1.,  0.,  1.,  0.,  1.,  1.,  1.,  0.,  0.,  1.,  1.,  1.,\n",
        "         1.,  0.,  1.,  1.,  1.,  1.,  0.,  0.,  0.,  1.,  0.,  0.,  1.,\n",
        "         1.,  1.,  1.,  0.,  1.],\n",
        "       [ 1.,  1.,  0.,  0.,  0.,  0.,  1.,  1.,  0.,  0.,  1.,  0.,  1.,\n",
        "         0.,  0.,  0.,  1.,  1.,  1.,  0.,  0.,  0.,  1.,  0.,  0.,  0.,\n",
        "         0.,  1.,  1.,  0.,  1.],\n",
        "       [ 1.,  1.,  0.,  0.,  0.,  0.,  1.,  1.,  0.,  0.,  1.,  0.,  1.,\n",
        "         0.,  0.,  1.,  1.,  1.,  1.,  0.,  0.,  0.,  1.,  0.,  0.,  0.,\n",
        "         0.,  1.,  1.,  0.,  1.]])"
       ]
      }
     ],
     "prompt_number": 59
    },
    {
     "cell_type": "code",
     "collapsed": false,
     "input": [],
     "language": "python",
     "metadata": {},
     "outputs": []
    }
   ],
   "metadata": {}
  }
 ]
}