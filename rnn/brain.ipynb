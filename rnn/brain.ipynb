{
 "metadata": {
  "name": "",
  "signature": "sha256:60728efcad6f1c4edc60bc49499a0308ef4ef592896c63977dc2e85618098ac7"
 },
 "nbformat": 3,
 "nbformat_minor": 0,
 "worksheets": [
  {
   "cells": [
    {
     "cell_type": "code",
     "collapsed": true,
     "input": [
      "import time\n",
      "import numpy as np\n",
      "import numpy.random as rnd\n",
      "import matplotlib.pyplot as plt\n",
      "from drawnow import drawnow\n",
      "from scipy.special import expit"
     ],
     "language": "python",
     "metadata": {},
     "outputs": [],
     "prompt_number": 2
    },
    {
     "cell_type": "code",
     "collapsed": false,
     "input": [
      "def process(u):\n",
      "    return expit(u)\n",
      "    # return u > 0\n",
      "\n",
      "def external_in(N_in, t):\n",
      "    A = 1\n",
      "    omega = rnd.rand(N_in, 1)\n",
      "    phi = rnd.rand(N_in, 1)\n",
      "    _t = omega*t/(2*np.pi)\n",
      "    return A*(np.sin(_t) + phi)\n",
      "\n",
      "def sim_out(t):\n",
      "    A = 0.5\n",
      "    T = 3\n",
      "    if (t/T)%2 == 1:\n",
      "        return A\n",
      "    else:\n",
      "        return 0"
     ],
     "language": "python",
     "metadata": {},
     "outputs": [],
     "prompt_number": 3
    },
    {
     "cell_type": "code",
     "collapsed": false,
     "input": [
      "N_units = 50\n",
      "Us = rnd.rand(N_units, 1)\n",
      "W = rnd.randn(N_units, N_units)\n",
      "N_in = 5\n",
      "OutU = 0\n",
      "In = rnd.choice(range(1,N_units), size=N_in, replace=True)"
     ],
     "language": "python",
     "metadata": {},
     "outputs": [],
     "prompt_number": 4
    },
    {
     "cell_type": "code",
     "collapsed": false,
     "input": [
      "alpha = 0.01\n",
      "N_T = 500\n",
      "Warm_up_T = 100\n",
      "record = np.zeros((N_units, N_T))\n",
      "for t in range(N_T):\n",
      "    record[:, t] = np.ravel(Us)\n",
      "    _preUs = W.dot(Us)\n",
      "    _preUs[In] += external_in(N_in, t)\n",
      "    Us = process(_preUs)\n",
      "    Err = Us[OutU] - sim_out(t)\n",
      "    gs = np.ravel(_preUs * Err )\n",
      "    #if t > Warm_up_T:\n",
      "    W[:, OutU] -= alpha * gs\n",
      "    #print Err"
     ],
     "language": "python",
     "metadata": {},
     "outputs": [],
     "prompt_number": 5
    },
    {
     "cell_type": "code",
     "collapsed": false,
     "input": [
      "plt.matshow(record, aspect='auto')\n",
      "plt.colorbar()\n",
      "plt.figure()\n",
      "plt.plot(external_in(N_in, np.array(range(N_T))).T)\n",
      "# plt.matshow(external_in(N_in, np.array(range(N_T))))\n",
      "plt.figure()\n",
      "plt.plot([sim_out(i) for i in range(N_T)])\n",
      "plt.figure()\n",
      "plt.plot(record[0, :])\n",
      "plt.show()"
     ],
     "language": "python",
     "metadata": {},
     "outputs": [],
     "prompt_number": 7
    },
    {
     "cell_type": "code",
     "collapsed": false,
     "input": [],
     "language": "python",
     "metadata": {},
     "outputs": []
    }
   ],
   "metadata": {}
  }
 ]
}