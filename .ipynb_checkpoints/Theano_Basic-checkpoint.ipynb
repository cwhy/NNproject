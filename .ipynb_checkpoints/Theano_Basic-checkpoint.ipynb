{
 "metadata": {
  "name": "",
  "signature": "sha256:5b775994ba0c9703fd48c9679ee0e22fd1ca5892fd0d1086b1749091e01f9b4e"
 },
 "nbformat": 3,
 "nbformat_minor": 0,
 "worksheets": []
}